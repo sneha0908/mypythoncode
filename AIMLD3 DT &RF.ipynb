{
 "cells": [
  {
   "cell_type": "code",
   "execution_count": 1,
   "id": "d4cfbff2",
   "metadata": {},
   "outputs": [],
   "source": [
    "#load libraries\n",
    "\n",
    "import pandas as pd\n",
    "import numpy as np\n",
    "from sklearn.tree import DecisionTreeClassifier"
   ]
  },
  {
   "cell_type": "code",
   "execution_count": 5,
   "id": "b43d625a",
   "metadata": {},
   "outputs": [],
   "source": [
    "df=pd.read_csv(r\"C:\\Users\\sneha\\Downloads\\demodt(2).txt\")"
   ]
  },
  {
   "cell_type": "code",
   "execution_count": 6,
   "id": "a9e066b3",
   "metadata": {},
   "outputs": [
    {
     "data": {
      "text/html": [
       "<div>\n",
       "<style scoped>\n",
       "    .dataframe tbody tr th:only-of-type {\n",
       "        vertical-align: middle;\n",
       "    }\n",
       "\n",
       "    .dataframe tbody tr th {\n",
       "        vertical-align: top;\n",
       "    }\n",
       "\n",
       "    .dataframe thead th {\n",
       "        text-align: right;\n",
       "    }\n",
       "</style>\n",
       "<table border=\"1\" class=\"dataframe\">\n",
       "  <thead>\n",
       "    <tr style=\"text-align: right;\">\n",
       "      <th></th>\n",
       "      <th>State</th>\n",
       "      <th>Literacy</th>\n",
       "      <th>Cleanliness</th>\n",
       "      <th>Crime_Rate</th>\n",
       "      <th>Good</th>\n",
       "    </tr>\n",
       "  </thead>\n",
       "  <tbody>\n",
       "    <tr>\n",
       "      <th>0</th>\n",
       "      <td>A</td>\n",
       "      <td>92</td>\n",
       "      <td>90</td>\n",
       "      <td>54</td>\n",
       "      <td>0</td>\n",
       "    </tr>\n",
       "    <tr>\n",
       "      <th>1</th>\n",
       "      <td>B</td>\n",
       "      <td>56</td>\n",
       "      <td>67</td>\n",
       "      <td>50</td>\n",
       "      <td>1</td>\n",
       "    </tr>\n",
       "    <tr>\n",
       "      <th>2</th>\n",
       "      <td>C</td>\n",
       "      <td>78</td>\n",
       "      <td>85</td>\n",
       "      <td>62</td>\n",
       "      <td>0</td>\n",
       "    </tr>\n",
       "    <tr>\n",
       "      <th>3</th>\n",
       "      <td>D</td>\n",
       "      <td>63</td>\n",
       "      <td>72</td>\n",
       "      <td>48</td>\n",
       "      <td>1</td>\n",
       "    </tr>\n",
       "    <tr>\n",
       "      <th>4</th>\n",
       "      <td>E</td>\n",
       "      <td>85</td>\n",
       "      <td>79</td>\n",
       "      <td>55</td>\n",
       "      <td>0</td>\n",
       "    </tr>\n",
       "  </tbody>\n",
       "</table>\n",
       "</div>"
      ],
      "text/plain": [
       "  State  Literacy  Cleanliness  Crime_Rate  Good\n",
       "0     A        92           90          54     0\n",
       "1     B        56           67          50     1\n",
       "2     C        78           85          62     0\n",
       "3     D        63           72          48     1\n",
       "4     E        85           79          55     0"
      ]
     },
     "execution_count": 6,
     "metadata": {},
     "output_type": "execute_result"
    }
   ],
   "source": [
    "df.head()"
   ]
  },
  {
   "cell_type": "code",
   "execution_count": 7,
   "id": "7bd6696c",
   "metadata": {},
   "outputs": [
    {
     "data": {
      "text/plain": [
       "State          0\n",
       "Literacy       0\n",
       "Cleanliness    0\n",
       "Crime_Rate     0\n",
       "Good           0\n",
       "dtype: int64"
      ]
     },
     "execution_count": 7,
     "metadata": {},
     "output_type": "execute_result"
    }
   ],
   "source": [
    "df.isnull().sum()"
   ]
  },
  {
   "cell_type": "code",
   "execution_count": 9,
   "id": "56e6078b",
   "metadata": {},
   "outputs": [],
   "source": [
    "ind=df[[\"Literacy\",\"Cleanliness\",\"Crime_Rate\"]] #preapre the data\n",
    "dep=df[\"Good\"]"
   ]
  },
  {
   "cell_type": "code",
   "execution_count": 10,
   "id": "7c5ba89e",
   "metadata": {},
   "outputs": [
    {
     "data": {
      "text/plain": [
       "DecisionTreeClassifier()"
      ]
     },
     "execution_count": 10,
     "metadata": {},
     "output_type": "execute_result"
    }
   ],
   "source": [
    "#create Decision tree classifier object\n",
    "DT=DecisionTreeClassifier()\n",
    "\n",
    "#train dt classifier\n",
    "DT.fit(ind,dep)"
   ]
  },
  {
   "cell_type": "code",
   "execution_count": 13,
   "id": "75621c7e",
   "metadata": {},
   "outputs": [
    {
     "name": "stderr",
     "output_type": "stream",
     "text": [
      "C:\\Users\\sneha\\anaconda3\\lib\\site-packages\\sklearn\\base.py:450: UserWarning: X does not have valid feature names, but DecisionTreeClassifier was fitted with feature names\n",
      "  warnings.warn(\n"
     ]
    },
    {
     "data": {
      "text/plain": [
       "array([0], dtype=int64)"
      ]
     },
     "execution_count": 13,
     "metadata": {},
     "output_type": "execute_result"
    }
   ],
   "source": [
    "DT.predict([[92,90,90]])"
   ]
  },
  {
   "cell_type": "code",
   "execution_count": 21,
   "id": "56d8c6ad",
   "metadata": {},
   "outputs": [
    {
     "name": "stdout",
     "output_type": "stream",
     "text": [
      "Enter Literarcy rate100\n",
      "Enter cleanliness rate100\n",
      "Enter crime rate0\n",
      "good state\n"
     ]
    },
    {
     "name": "stderr",
     "output_type": "stream",
     "text": [
      "C:\\Users\\sneha\\anaconda3\\lib\\site-packages\\sklearn\\base.py:450: UserWarning: X does not have valid feature names, but DecisionTreeClassifier was fitted with feature names\n",
      "  warnings.warn(\n"
     ]
    }
   ],
   "source": [
    "lit=int(input(\"Enter Literarcy rate\"))\n",
    "cln=int(input(\"Enter cleanliness rate\"))\n",
    "cri=int(input(\"Enter crime rate\"))\n",
    "out=DT.predict([[lit,cln,cri]])\n",
    "if out==1:\n",
    "    print(\"good state\")\n",
    "else:\n",
    "    print(\"bad state\")"
   ]
  },
  {
   "cell_type": "markdown",
   "id": "f8481703",
   "metadata": {},
   "source": [
    "# diabetes"
   ]
  },
  {
   "cell_type": "code",
   "execution_count": 22,
   "id": "c2b56205",
   "metadata": {},
   "outputs": [],
   "source": [
    "#load libraries\n",
    "\n",
    "import pandas as pd\n",
    "import numpy as np\n",
    "from sklearn.tree import DecisionTreeClassifier"
   ]
  },
  {
   "cell_type": "code",
   "execution_count": 23,
   "id": "6fafb754",
   "metadata": {},
   "outputs": [],
   "source": [
    "df=pd.read_csv(r\"C:\\Users\\sneha\\Downloads\\diabetcsv(3).csv\")"
   ]
  },
  {
   "cell_type": "code",
   "execution_count": 24,
   "id": "10bee091",
   "metadata": {},
   "outputs": [
    {
     "data": {
      "text/html": [
       "<div>\n",
       "<style scoped>\n",
       "    .dataframe tbody tr th:only-of-type {\n",
       "        vertical-align: middle;\n",
       "    }\n",
       "\n",
       "    .dataframe tbody tr th {\n",
       "        vertical-align: top;\n",
       "    }\n",
       "\n",
       "    .dataframe thead th {\n",
       "        text-align: right;\n",
       "    }\n",
       "</style>\n",
       "<table border=\"1\" class=\"dataframe\">\n",
       "  <thead>\n",
       "    <tr style=\"text-align: right;\">\n",
       "      <th></th>\n",
       "      <th>preg</th>\n",
       "      <th>plas</th>\n",
       "      <th>pres</th>\n",
       "      <th>skin</th>\n",
       "      <th>insu</th>\n",
       "      <th>mass</th>\n",
       "      <th>pedi</th>\n",
       "      <th>age</th>\n",
       "      <th>class</th>\n",
       "    </tr>\n",
       "  </thead>\n",
       "  <tbody>\n",
       "    <tr>\n",
       "      <th>0</th>\n",
       "      <td>6</td>\n",
       "      <td>148</td>\n",
       "      <td>72</td>\n",
       "      <td>35</td>\n",
       "      <td>0</td>\n",
       "      <td>33.6</td>\n",
       "      <td>0.627</td>\n",
       "      <td>50</td>\n",
       "      <td>tested_positive</td>\n",
       "    </tr>\n",
       "    <tr>\n",
       "      <th>1</th>\n",
       "      <td>1</td>\n",
       "      <td>85</td>\n",
       "      <td>66</td>\n",
       "      <td>29</td>\n",
       "      <td>0</td>\n",
       "      <td>26.6</td>\n",
       "      <td>0.351</td>\n",
       "      <td>31</td>\n",
       "      <td>tested_negative</td>\n",
       "    </tr>\n",
       "    <tr>\n",
       "      <th>2</th>\n",
       "      <td>8</td>\n",
       "      <td>183</td>\n",
       "      <td>64</td>\n",
       "      <td>0</td>\n",
       "      <td>0</td>\n",
       "      <td>23.3</td>\n",
       "      <td>0.672</td>\n",
       "      <td>32</td>\n",
       "      <td>tested_positive</td>\n",
       "    </tr>\n",
       "    <tr>\n",
       "      <th>3</th>\n",
       "      <td>1</td>\n",
       "      <td>89</td>\n",
       "      <td>66</td>\n",
       "      <td>23</td>\n",
       "      <td>94</td>\n",
       "      <td>28.1</td>\n",
       "      <td>0.167</td>\n",
       "      <td>21</td>\n",
       "      <td>tested_negative</td>\n",
       "    </tr>\n",
       "    <tr>\n",
       "      <th>4</th>\n",
       "      <td>0</td>\n",
       "      <td>137</td>\n",
       "      <td>40</td>\n",
       "      <td>35</td>\n",
       "      <td>168</td>\n",
       "      <td>43.1</td>\n",
       "      <td>2.288</td>\n",
       "      <td>33</td>\n",
       "      <td>tested_positive</td>\n",
       "    </tr>\n",
       "  </tbody>\n",
       "</table>\n",
       "</div>"
      ],
      "text/plain": [
       "   preg  plas  pres  skin  insu  mass   pedi  age            class\n",
       "0     6   148    72    35     0  33.6  0.627   50  tested_positive\n",
       "1     1    85    66    29     0  26.6  0.351   31  tested_negative\n",
       "2     8   183    64     0     0  23.3  0.672   32  tested_positive\n",
       "3     1    89    66    23    94  28.1  0.167   21  tested_negative\n",
       "4     0   137    40    35   168  43.1  2.288   33  tested_positive"
      ]
     },
     "execution_count": 24,
     "metadata": {},
     "output_type": "execute_result"
    }
   ],
   "source": [
    "df.head()\n"
   ]
  },
  {
   "cell_type": "code",
   "execution_count": 25,
   "id": "2e00275a",
   "metadata": {},
   "outputs": [
    {
     "data": {
      "text/plain": [
       "preg     0\n",
       "plas     0\n",
       "pres     0\n",
       "skin     0\n",
       "insu     0\n",
       "mass     0\n",
       "pedi     0\n",
       "age      0\n",
       "class    0\n",
       "dtype: int64"
      ]
     },
     "execution_count": 25,
     "metadata": {},
     "output_type": "execute_result"
    }
   ],
   "source": [
    "df.isnull().sum()"
   ]
  },
  {
   "cell_type": "code",
   "execution_count": 26,
   "id": "48749e6a",
   "metadata": {},
   "outputs": [],
   "source": [
    "ind=df[[\"preg\",\"plas\",\"pres\",\"skin\",\"insu\",\"mass\",\"pedi\",\"age\"]] #preapre the data\n",
    "dep=df[\"class\"]"
   ]
  },
  {
   "cell_type": "code",
   "execution_count": 27,
   "id": "2f05a854",
   "metadata": {},
   "outputs": [
    {
     "data": {
      "text/plain": [
       "DecisionTreeClassifier()"
      ]
     },
     "execution_count": 27,
     "metadata": {},
     "output_type": "execute_result"
    }
   ],
   "source": [
    "#create Decision tree classifier object\n",
    "DT=DecisionTreeClassifier()\n",
    "\n",
    "#train dt classifier\n",
    "DT.fit(ind,dep)"
   ]
  },
  {
   "cell_type": "code",
   "execution_count": 28,
   "id": "cc4b89b8",
   "metadata": {},
   "outputs": [
    {
     "name": "stderr",
     "output_type": "stream",
     "text": [
      "C:\\Users\\sneha\\anaconda3\\lib\\site-packages\\sklearn\\base.py:450: UserWarning: X does not have valid feature names, but DecisionTreeClassifier was fitted with feature names\n",
      "  warnings.warn(\n"
     ]
    },
    {
     "data": {
      "text/plain": [
       "array(['tested_positive'], dtype=object)"
      ]
     },
     "execution_count": 28,
     "metadata": {},
     "output_type": "execute_result"
    }
   ],
   "source": [
    "DT.predict([[6,148,72,35,168,33,0.22,61]])"
   ]
  },
  {
   "cell_type": "code",
   "execution_count": 29,
   "id": "0ac0013e",
   "metadata": {},
   "outputs": [
    {
     "name": "stdout",
     "output_type": "stream",
     "text": [
      "Enter preg: 6\n",
      "Enter a plasma reate: 150\n",
      "Enter your blood pressure: 72\n",
      "Enter your skin color 40\n",
      "Enter your insulin rate 0\n",
      "Enter your mass55\n",
      "Enter your pedi44\n",
      "enter your age34\n",
      "The predicted class is: tested_positive\n"
     ]
    },
    {
     "name": "stderr",
     "output_type": "stream",
     "text": [
      "C:\\Users\\sneha\\anaconda3\\lib\\site-packages\\sklearn\\base.py:450: UserWarning: X does not have valid feature names, but DecisionTreeClassifier was fitted with feature names\n",
      "  warnings.warn(\n"
     ]
    }
   ],
   "source": [
    "preg= int(input(\"Enter preg: \"))\n",
    "plas = int(input(\"Enter a plasma reate: \"))\n",
    "pres = int(input(\"Enter your blood pressure: \"))\n",
    "skin = int(input(\"Enter your skin color \"))\n",
    "insu = int(input(\"Enter your insulin rate \"))\n",
    "mass=float(input(\"Enter your mass\"))\n",
    "pedi=float(input(\"Enter your pedi\"))\n",
    "age=float(input(\"enter your age\"))\n",
    "out = DT.predict([[preg, plas, pres,skin,insu,mass,pedi,age]])\n",
    "print(\"The predicted class is:\", out[0])"
   ]
  },
  {
   "cell_type": "markdown",
   "id": "048da9da",
   "metadata": {},
   "source": [
    "# RANDOM FOREST"
   ]
  },
  {
   "cell_type": "code",
   "execution_count": 30,
   "id": "e4134d28",
   "metadata": {},
   "outputs": [],
   "source": [
    "#load libraries\n",
    "\n",
    "import pandas as pd\n",
    "import numpy as np\n",
    "from sklearn.ensemble import RandomForestClassifier"
   ]
  },
  {
   "cell_type": "code",
   "execution_count": 33,
   "id": "978a0eac",
   "metadata": {},
   "outputs": [],
   "source": [
    "df=pd.read_csv(r\"C:\\Users\\sneha\\Downloads\\demodt(2).txt\",sep=',')"
   ]
  },
  {
   "cell_type": "code",
   "execution_count": 35,
   "id": "7993dbf3",
   "metadata": {},
   "outputs": [],
   "source": [
    "ind=df[[\"Literacy\",\"Cleanliness\",\"Crime_Rate\"]] #preapre the data\n",
    "dep=df.Good"
   ]
  },
  {
   "cell_type": "code",
   "execution_count": 36,
   "id": "0b430f01",
   "metadata": {},
   "outputs": [
    {
     "data": {
      "text/plain": [
       "RandomForestClassifier(n_estimators=10)"
      ]
     },
     "execution_count": 36,
     "metadata": {},
     "output_type": "execute_result"
    }
   ],
   "source": [
    "RF=RandomForestClassifier(n_estimators=10)\n",
    "RF.fit(ind,dep)"
   ]
  },
  {
   "cell_type": "code",
   "execution_count": 37,
   "id": "e76b077a",
   "metadata": {},
   "outputs": [
    {
     "name": "stderr",
     "output_type": "stream",
     "text": [
      "C:\\Users\\sneha\\anaconda3\\lib\\site-packages\\sklearn\\base.py:450: UserWarning: X does not have valid feature names, but RandomForestClassifier was fitted with feature names\n",
      "  warnings.warn(\n"
     ]
    },
    {
     "data": {
      "text/plain": [
       "array([0], dtype=int64)"
      ]
     },
     "execution_count": 37,
     "metadata": {},
     "output_type": "execute_result"
    }
   ],
   "source": [
    "RF.predict([[92,90,90]])"
   ]
  },
  {
   "cell_type": "code",
   "execution_count": 38,
   "id": "50362c75",
   "metadata": {},
   "outputs": [
    {
     "name": "stdout",
     "output_type": "stream",
     "text": [
      "Enter Literarcy rate78\n",
      "Enter cleanliness rate99\n",
      "Enter crime rate0\n",
      "good state\n"
     ]
    },
    {
     "name": "stderr",
     "output_type": "stream",
     "text": [
      "C:\\Users\\sneha\\anaconda3\\lib\\site-packages\\sklearn\\base.py:450: UserWarning: X does not have valid feature names, but RandomForestClassifier was fitted with feature names\n",
      "  warnings.warn(\n"
     ]
    }
   ],
   "source": [
    "lit=int(input(\"Enter Literarcy rate\"))\n",
    "cln=int(input(\"Enter cleanliness rate\"))\n",
    "cri=int(input(\"Enter crime rate\"))\n",
    "out=RF.predict([[lit,cln,cri]])\n",
    "if out==1:\n",
    "    print(\"good state\")\n",
    "else:\n",
    "    print(\"bad state\")"
   ]
  },
  {
   "cell_type": "code",
   "execution_count": null,
   "id": "341623f0",
   "metadata": {},
   "outputs": [],
   "source": []
  }
 ],
 "metadata": {
  "kernelspec": {
   "display_name": "Python 3 (ipykernel)",
   "language": "python",
   "name": "python3"
  },
  "language_info": {
   "codemirror_mode": {
    "name": "ipython",
    "version": 3
   },
   "file_extension": ".py",
   "mimetype": "text/x-python",
   "name": "python",
   "nbconvert_exporter": "python",
   "pygments_lexer": "ipython3",
   "version": "3.9.12"
  }
 },
 "nbformat": 4,
 "nbformat_minor": 5
}

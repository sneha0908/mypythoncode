{
 "cells": [
  {
   "cell_type": "markdown",
   "id": "4c5a58ae",
   "metadata": {},
   "source": [
    "# Basics\n"
   ]
  },
  {
   "cell_type": "code",
   "execution_count": 2,
   "id": "e420e688",
   "metadata": {},
   "outputs": [
    {
     "name": "stdout",
     "output_type": "stream",
     "text": [
      "a=24\n"
     ]
    }
   ],
   "source": [
    "print(\"a=24\")"
   ]
  },
  {
   "cell_type": "code",
   "execution_count": 3,
   "id": "25ea4266",
   "metadata": {},
   "outputs": [
    {
     "name": "stdout",
     "output_type": "stream",
     "text": [
      "24\n"
     ]
    }
   ],
   "source": [
    "a=24\n",
    "print(a)"
   ]
  },
  {
   "cell_type": "code",
   "execution_count": 6,
   "id": "6bbb5838",
   "metadata": {},
   "outputs": [
    {
     "name": "stdout",
     "output_type": "stream",
     "text": [
      "i am 24 years old\n"
     ]
    }
   ],
   "source": [
    "print(\"i am\",a,\"years old\")"
   ]
  },
  {
   "cell_type": "code",
   "execution_count": 8,
   "id": "dbc11a2b",
   "metadata": {},
   "outputs": [
    {
     "name": "stdout",
     "output_type": "stream",
     "text": [
      "23\n"
     ]
    }
   ],
   "source": [
    "a=12\n",
    "b=11\n",
    "print(a+b)\n"
   ]
  },
  {
   "cell_type": "code",
   "execution_count": 9,
   "id": "6e7cd681",
   "metadata": {},
   "outputs": [
    {
     "name": "stdout",
     "output_type": "stream",
     "text": [
      "enter a number23\n",
      "i am 23 years old\n"
     ]
    }
   ],
   "source": [
    "inp=input(\"enter a number\")\n",
    "print(\"i am\",inp,\"years old\")"
   ]
  },
  {
   "cell_type": "code",
   "execution_count": 2,
   "id": "83988d33",
   "metadata": {},
   "outputs": [
    {
     "name": "stdout",
     "output_type": "stream",
     "text": [
      "enter first number25\n",
      "enter second number3\n",
      "result = 8\n"
     ]
    }
   ],
   "source": [
    "num1=int(input(\"enter first number\"))\n",
    "num2=int(input(\"enter second number\"))\n",
    "s=num1//num2\n",
    "print(\"result =\",s)"
   ]
  },
  {
   "cell_type": "code",
   "execution_count": 1,
   "id": "fea0771d",
   "metadata": {},
   "outputs": [
    {
     "name": "stdout",
     "output_type": "stream",
     "text": [
      "enter first number25\n",
      "enter second number3\n",
      "result = 8.333333333333334\n"
     ]
    }
   ],
   "source": [
    "num1=int(input(\"enter first number\"))\n",
    "num2=int(input(\"enter second number\"))\n",
    "s=num1/num2\n",
    "print(\"result =\",s)"
   ]
  },
  {
   "cell_type": "code",
   "execution_count": 4,
   "id": "c743bd5f",
   "metadata": {},
   "outputs": [
    {
     "name": "stdout",
     "output_type": "stream",
     "text": [
      "enter first number25\n",
      "enter second number2\n",
      "result = 1\n"
     ]
    }
   ],
   "source": [
    "num1=int(input(\"enter first number\"))\n",
    "num2=int(input(\"enter second number\"))\n",
    "s=num1%num2\n",
    "print(\"result =\",s)"
   ]
  },
  {
   "cell_type": "code",
   "execution_count": null,
   "id": "6a43f775",
   "metadata": {},
   "outputs": [],
   "source": []
  }
 ],
 "metadata": {
  "kernelspec": {
   "display_name": "Python 3 (ipykernel)",
   "language": "python",
   "name": "python3"
  },
  "language_info": {
   "codemirror_mode": {
    "name": "ipython",
    "version": 3
   },
   "file_extension": ".py",
   "mimetype": "text/x-python",
   "name": "python",
   "nbconvert_exporter": "python",
   "pygments_lexer": "ipython3",
   "version": "3.9.12"
  }
 },
 "nbformat": 4,
 "nbformat_minor": 5
}

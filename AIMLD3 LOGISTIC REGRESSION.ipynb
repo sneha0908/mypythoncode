{
 "cells": [
  {
   "cell_type": "code",
   "execution_count": 4,
   "id": "8b50546d",
   "metadata": {},
   "outputs": [],
   "source": [
    "#importing libraries\n",
    "import numpy as np\n",
    "from sklearn.linear_model import LogisticRegression\n",
    "\n",
    "#distance and corresponding probability data\n",
    "distances = np.array([1,2,5,10,15,20, 21, 22, 23, 24, 25, 26, 27, 28, 29, 30,35,40,41,47,50]).reshape(-1, 1)\n",
    "probabilities = np.array([1,1,1,1,1,1,0.9, 0.85, 0.73, 0.67, 0.5, 0.47, 0.39, 0.31, 0.25, 0.15,0,0,0,0,0])"
   ]
  },
  {
   "cell_type": "code",
   "execution_count": 5,
   "id": "c7f3f1f8",
   "metadata": {},
   "outputs": [
    {
     "name": "stdout",
     "output_type": "stream",
     "text": [
      "[ True  True  True  True  True  True  True  True  True  True False False\n",
      " False False False False False False False False False]\n"
     ]
    }
   ],
   "source": [
    "#converting probabilities to binary labels\n",
    "threshold=0.5\n",
    "binary_labels=(probabilities > threshold)\n",
    "\n",
    "print(binary_labels)"
   ]
  },
  {
   "cell_type": "code",
   "execution_count": 6,
   "id": "ced462fd",
   "metadata": {},
   "outputs": [
    {
     "data": {
      "text/plain": [
       "LogisticRegression()"
      ]
     },
     "execution_count": 6,
     "metadata": {},
     "output_type": "execute_result"
    }
   ],
   "source": [
    "logr=LogisticRegression() #empty model\n",
    "logr.fit(distances,binary_labels) # train the model"
   ]
  },
  {
   "cell_type": "code",
   "execution_count": 13,
   "id": "47924e16",
   "metadata": {},
   "outputs": [
    {
     "name": "stdout",
     "output_type": "stream",
     "text": [
      "[ True]\n"
     ]
    }
   ],
   "source": [
    "p=logr.predict([[24.21]]) #distance\n",
    "print(p)"
   ]
  },
  {
   "cell_type": "code",
   "execution_count": 14,
   "id": "92ca0f6e",
   "metadata": {},
   "outputs": [
    {
     "name": "stdout",
     "output_type": "stream",
     "text": [
      "Enter a value: .1\n",
      "Predicted probability: 0.9999999999997473\n",
      "true\n"
     ]
    }
   ],
   "source": [
    "dist= float(input(\"Enter a value: \"))\n",
    "p = logr.predict_proba([[dist]])\n",
    "print(\"Predicted probability:\", p[0][1])\n",
    "\n",
    "if p[0][1] > 0.5:\n",
    "    print(\"true\")\n",
    "else:\n",
    "    print(\"false\")"
   ]
  },
  {
   "cell_type": "code",
   "execution_count": null,
   "id": "afb0ed1f",
   "metadata": {},
   "outputs": [],
   "source": []
  }
 ],
 "metadata": {
  "kernelspec": {
   "display_name": "Python 3 (ipykernel)",
   "language": "python",
   "name": "python3"
  },
  "language_info": {
   "codemirror_mode": {
    "name": "ipython",
    "version": 3
   },
   "file_extension": ".py",
   "mimetype": "text/x-python",
   "name": "python",
   "nbconvert_exporter": "python",
   "pygments_lexer": "ipython3",
   "version": "3.9.12"
  }
 },
 "nbformat": 4,
 "nbformat_minor": 5
}

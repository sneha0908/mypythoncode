{
 "cells": [
  {
   "cell_type": "code",
   "execution_count": 14,
   "id": "0f55e427",
   "metadata": {},
   "outputs": [],
   "source": [
    "import numpy as np\n",
    "import pandas as pd\n",
    "from sklearn.neighbors import KNeighborsClassifier\n",
    "\n",
    "from matplotlib import pyplot as plt"
   ]
  },
  {
   "cell_type": "code",
   "execution_count": 12,
   "id": "66df8b54",
   "metadata": {},
   "outputs": [],
   "source": [
    "#sample data set\n",
    "#sample databases\n",
    "data={\n",
    "    'BP':[120,130,140,150,160,170,180,190,200,210],\n",
    "    'Cholesterol':[200,220,240,260,280,300,320,340,360,380],\n",
    "    'HeartRisk':[0,0,0,0,1,1,1,1,1,1]#0:no risk,1:at risk\n",
    "}\n",
    "\n",
    "#create dataframe\n",
    "df=pd.DataFrame(data)\n",
    "#create dataframe\n",
    "df=pd.DataFrame(data)"
   ]
  },
  {
   "cell_type": "code",
   "execution_count": 3,
   "id": "4baeef36",
   "metadata": {},
   "outputs": [],
   "source": [
    "X=df[['BP','Cholesterol']]\n",
    "y=df['HeartRisk']"
   ]
  },
  {
   "cell_type": "code",
   "execution_count": 4,
   "id": "bb4cd37f",
   "metadata": {},
   "outputs": [
    {
     "data": {
      "text/plain": [
       "KNeighborsClassifier(n_neighbors=3)"
      ]
     },
     "execution_count": 4,
     "metadata": {},
     "output_type": "execute_result"
    }
   ],
   "source": [
    "y=df['HeartRisk']\n",
    "k=3\n",
    "knn=KNeighborsClassifier(n_neighbors=k)\n",
    "\n",
    "knn.fit(X,y)"
   ]
  },
  {
   "cell_type": "code",
   "execution_count": 5,
   "id": "c020d6c6",
   "metadata": {},
   "outputs": [
    {
     "name": "stdout",
     "output_type": "stream",
     "text": [
      "At risk\n"
     ]
    },
    {
     "name": "stderr",
     "output_type": "stream",
     "text": [
      "C:\\Users\\sneha\\anaconda3\\lib\\site-packages\\sklearn\\base.py:450: UserWarning: X does not have valid feature names, but KNeighborsClassifier was fitted with feature names\n",
      "  warnings.warn(\n"
     ]
    }
   ],
   "source": [
    "#example prediction\n",
    "new_data = np.array([[210, 250]]) #new patient with BP-145 and Cholesterol-250\n",
    "prediction = knn.predict(new_data)\n",
    "\n",
    "if prediction == 0:\n",
    "    print(\"No risk\")\n",
    "else:\n",
    "    print(\"At risk\")"
   ]
  },
  {
   "cell_type": "code",
   "execution_count": 17,
   "id": "adbad316",
   "metadata": {},
   "outputs": [],
   "source": [
    "from sklearn.neighbors import KNeighborsClassifier\n",
    "import numpy as np\n",
    "import pandas as pd\n",
    "from sklearn.datasets import load_digits \n",
    "from matplotlib import pyplot as plt"
   ]
  },
  {
   "cell_type": "code",
   "execution_count": null,
   "id": "2b1842dc",
   "metadata": {},
   "outputs": [],
   "source": []
  }
 ],
 "metadata": {
  "kernelspec": {
   "display_name": "Python 3 (ipykernel)",
   "language": "python",
   "name": "python3"
  },
  "language_info": {
   "codemirror_mode": {
    "name": "ipython",
    "version": 3
   },
   "file_extension": ".py",
   "mimetype": "text/x-python",
   "name": "python",
   "nbconvert_exporter": "python",
   "pygments_lexer": "ipython3",
   "version": "3.9.12"
  }
 },
 "nbformat": 4,
 "nbformat_minor": 5
}

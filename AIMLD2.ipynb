{
 "cells": [
  {
   "cell_type": "markdown",
   "id": "82b56401",
   "metadata": {},
   "source": [
    "# LIBRARIES "
   ]
  },
  {
   "cell_type": "markdown",
   "id": "a35d4227",
   "metadata": {},
   "source": [
    "numpy"
   ]
  },
  {
   "cell_type": "code",
   "execution_count": 3,
   "id": "547a2dc2",
   "metadata": {},
   "outputs": [],
   "source": [
    "#importing\n",
    "import numpy as np"
   ]
  },
  {
   "cell_type": "code",
   "execution_count": 4,
   "id": "701a923f",
   "metadata": {},
   "outputs": [
    {
     "data": {
      "text/plain": [
       "array([112,  42,  89, 115])"
      ]
     },
     "execution_count": 4,
     "metadata": {},
     "output_type": "execute_result"
    }
   ],
   "source": [
    "#array!\n",
    "ar1=np.array([34,26,77,98])\n",
    "ar2=np.array([78,16,12,17])\n",
    "ar1+ar2"
   ]
  },
  {
   "cell_type": "code",
   "execution_count": 5,
   "id": "c2fe8471",
   "metadata": {},
   "outputs": [
    {
     "data": {
      "text/plain": [
       "array([[1., 1., 1.],\n",
       "       [1., 1., 1.]])"
      ]
     },
     "execution_count": 5,
     "metadata": {},
     "output_type": "execute_result"
    }
   ],
   "source": [
    "#intrinsic creation of arrays!\n",
    "ar3=np.ones((2,3))\n",
    "ar3"
   ]
  },
  {
   "cell_type": "code",
   "execution_count": 6,
   "id": "912cdb9c",
   "metadata": {},
   "outputs": [
    {
     "name": "stdout",
     "output_type": "stream",
     "text": [
      "[[0. 0. 0. 0. 0.]\n",
      " [0. 0. 0. 0. 0.]\n",
      " [0. 0. 0. 0. 0.]\n",
      " [0. 0. 0. 0. 0.]]\n"
     ]
    }
   ],
   "source": [
    "ar4=np.zeros((4,5))\n",
    "print(ar4)"
   ]
  },
  {
   "cell_type": "code",
   "execution_count": 7,
   "id": "c57ce082",
   "metadata": {},
   "outputs": [
    {
     "data": {
      "text/plain": [
       "array([[1., 0., 0.],\n",
       "       [0., 1., 0.],\n",
       "       [0., 0., 1.]])"
      ]
     },
     "execution_count": 7,
     "metadata": {},
     "output_type": "execute_result"
    }
   ],
   "source": [
    "a4=np.eye(3)   #for diagonal\n",
    "a4"
   ]
  },
  {
   "cell_type": "code",
   "execution_count": 8,
   "id": "1075aa29",
   "metadata": {},
   "outputs": [
    {
     "data": {
      "text/plain": [
       "array([ 6,  8, 10, 12, 14, 16, 18, 20, 22, 24, 26, 28])"
      ]
     },
     "execution_count": 8,
     "metadata": {},
     "output_type": "execute_result"
    }
   ],
   "source": [
    "a4=np.arange(6,30,2) #start,stop,step\n",
    "a4"
   ]
  },
  {
   "cell_type": "code",
   "execution_count": 9,
   "id": "51dcc9c6",
   "metadata": {},
   "outputs": [
    {
     "data": {
      "text/plain": [
       "array([   8,   16,   24,   32,   40,   48,   56,   64,   72,   80,   88,\n",
       "         96,  104,  112,  120,  128,  136,  144,  152,  160,  168,  176,\n",
       "        184,  192,  200,  208,  216,  224,  232,  240,  248,  256,  264,\n",
       "        272,  280,  288,  296,  304,  312,  320,  328,  336,  344,  352,\n",
       "        360,  368,  376,  384,  392,  400,  408,  416,  424,  432,  440,\n",
       "        448,  456,  464,  472,  480,  488,  496,  504,  512,  520,  528,\n",
       "        536,  544,  552,  560,  568,  576,  584,  592,  600,  608,  616,\n",
       "        624,  632,  640,  648,  656,  664,  672,  680,  688,  696,  704,\n",
       "        712,  720,  728,  736,  744,  752,  760,  768,  776,  784,  792,\n",
       "        800,  808,  816,  824,  832,  840,  848,  856,  864,  872,  880,\n",
       "        888,  896,  904,  912,  920,  928,  936,  944,  952,  960,  968,\n",
       "        976,  984,  992, 1000])"
      ]
     },
     "execution_count": 9,
     "metadata": {},
     "output_type": "execute_result"
    }
   ],
   "source": [
    "a4=np.arange(8,1001,8)\n",
    "a4"
   ]
  },
  {
   "cell_type": "code",
   "execution_count": 10,
   "id": "204a1f39",
   "metadata": {},
   "outputs": [
    {
     "data": {
      "text/plain": [
       "1"
      ]
     },
     "execution_count": 10,
     "metadata": {},
     "output_type": "execute_result"
    }
   ],
   "source": [
    "np.ndim(a4)  #dimension"
   ]
  },
  {
   "cell_type": "code",
   "execution_count": 11,
   "id": "8737b0f3",
   "metadata": {},
   "outputs": [
    {
     "data": {
      "text/plain": [
       "(4, 5)"
      ]
     },
     "execution_count": 11,
     "metadata": {},
     "output_type": "execute_result"
    }
   ],
   "source": [
    "np.shape(ar4)"
   ]
  },
  {
   "cell_type": "code",
   "execution_count": 12,
   "id": "4db40fd5",
   "metadata": {},
   "outputs": [
    {
     "name": "stdout",
     "output_type": "stream",
     "text": [
      "[[3 4 5]\n",
      " [1 2 3]]\n"
     ]
    }
   ],
   "source": [
    "#2D\n",
    "ar8=np.array([[3,4,5],[1,2,3]])\n",
    "print(ar8)"
   ]
  },
  {
   "cell_type": "code",
   "execution_count": 13,
   "id": "f9cf12ea",
   "metadata": {},
   "outputs": [
    {
     "data": {
      "text/plain": [
       "array([[3, 4, 5],\n",
       "       [1, 2, 3]])"
      ]
     },
     "execution_count": 13,
     "metadata": {},
     "output_type": "execute_result"
    }
   ],
   "source": [
    "ar8"
   ]
  },
  {
   "cell_type": "code",
   "execution_count": 14,
   "id": "3a213a40",
   "metadata": {},
   "outputs": [
    {
     "name": "stdout",
     "output_type": "stream",
     "text": [
      "[[[3 4 5]\n",
      "  [1 2 3]]\n",
      "\n",
      " [[7 8 9]\n",
      "  [7 2 4]]]\n"
     ]
    }
   ],
   "source": [
    "a9=np.array([[[3,4,5],[1,2,3]],[[7,8,9],[7,2,4]]])\n",
    "print(a9)"
   ]
  },
  {
   "cell_type": "markdown",
   "id": "6b872f28",
   "metadata": {},
   "source": [
    "# statistics"
   ]
  },
  {
   "cell_type": "code",
   "execution_count": 15,
   "id": "7422df45",
   "metadata": {},
   "outputs": [],
   "source": [
    "m = np.array([89,34,55,12,89])"
   ]
  },
  {
   "cell_type": "code",
   "execution_count": 16,
   "id": "b28ac801",
   "metadata": {},
   "outputs": [
    {
     "name": "stdout",
     "output_type": "stream",
     "text": [
      "55.8\n"
     ]
    }
   ],
   "source": [
    "Avg=np.mean(m)\n",
    "print(Avg)"
   ]
  },
  {
   "cell_type": "code",
   "execution_count": 17,
   "id": "01e83120",
   "metadata": {},
   "outputs": [
    {
     "name": "stdout",
     "output_type": "stream",
     "text": [
      "55.0\n"
     ]
    }
   ],
   "source": [
    "med=np.median(m)\n",
    "print(med)"
   ]
  },
  {
   "cell_type": "code",
   "execution_count": 18,
   "id": "1f3d5af0",
   "metadata": {},
   "outputs": [
    {
     "name": "stdout",
     "output_type": "stream",
     "text": [
      "30.32754523531372\n"
     ]
    }
   ],
   "source": [
    "sd=np.std(m)\n",
    "print(sd)"
   ]
  },
  {
   "cell_type": "code",
   "execution_count": 19,
   "id": "99e20f85",
   "metadata": {},
   "outputs": [
    {
     "name": "stdout",
     "output_type": "stream",
     "text": [
      "919.76\n"
     ]
    }
   ],
   "source": [
    "v=np.var(m)\n",
    "print(v)"
   ]
  },
  {
   "cell_type": "markdown",
   "id": "3e69b2c3",
   "metadata": {},
   "source": [
    "# random"
   ]
  },
  {
   "cell_type": "code",
   "execution_count": 20,
   "id": "e39587bd",
   "metadata": {},
   "outputs": [],
   "source": [
    "from numpy import random as rd\n",
    "#from parent import child as nn"
   ]
  },
  {
   "cell_type": "code",
   "execution_count": 21,
   "id": "c364ca64",
   "metadata": {},
   "outputs": [
    {
     "name": "stdout",
     "output_type": "stream",
     "text": [
      "65\n"
     ]
    }
   ],
   "source": [
    "r1=rd.randint(90)\n",
    "print(r1)"
   ]
  },
  {
   "cell_type": "code",
   "execution_count": 22,
   "id": "e8565d6c",
   "metadata": {},
   "outputs": [
    {
     "name": "stdout",
     "output_type": "stream",
     "text": [
      "[29 89 48 56 21 23 82 70 22]\n"
     ]
    }
   ],
   "source": [
    "r2=rd.randint(90,size=9)#limit,size\n",
    "print(r2)"
   ]
  },
  {
   "cell_type": "code",
   "execution_count": 23,
   "id": "a822e026",
   "metadata": {},
   "outputs": [
    {
     "name": "stdout",
     "output_type": "stream",
     "text": [
      "[[32  0 93]\n",
      " [76 86 55]]\n"
     ]
    }
   ],
   "source": [
    "r3=rd.randint(100,size=(2,3)) #limit,size=(row,colr)\n",
    "print(r3)"
   ]
  },
  {
   "cell_type": "code",
   "execution_count": 24,
   "id": "99c755d9",
   "metadata": {},
   "outputs": [
    {
     "name": "stdout",
     "output_type": "stream",
     "text": [
      "[0.2025765  0.23340793 0.17986289 0.15896641 0.06855678 0.55913828\n",
      " 0.98246216 0.93088391 0.09707163]\n"
     ]
    }
   ],
   "source": [
    "r4=rd.rand(9)\n",
    "print(r4)"
   ]
  },
  {
   "cell_type": "code",
   "execution_count": 25,
   "id": "5f3d09a6",
   "metadata": {},
   "outputs": [
    {
     "name": "stdout",
     "output_type": "stream",
     "text": [
      "[[3.58557516 9.31696487]\n",
      " [0.68840391 6.68436355]\n",
      " [6.91435909 3.04299279]\n",
      " [9.69383103 3.28877069]\n",
      " [4.80626486 0.01696155]\n",
      " [2.05184848 1.88866359]\n",
      " [5.89858211 1.15127871]\n",
      " [2.30432121 0.2385003 ]\n",
      " [2.90189537 5.51007644]]\n"
     ]
    }
   ],
   "source": [
    "r5=10*(rd.rand(9,2)) #0 to 1\n",
    "print(r5)"
   ]
  },
  {
   "cell_type": "markdown",
   "id": "5031018d",
   "metadata": {},
   "source": [
    "# stacking = combining 2 arrays"
   ]
  },
  {
   "cell_type": "code",
   "execution_count": 26,
   "id": "699b7bbb",
   "metadata": {},
   "outputs": [
    {
     "name": "stdout",
     "output_type": "stream",
     "text": [
      "[[44 47 64 67 67]\n",
      " [ 9 83 21 36 87]\n",
      " [70 88 88 12 58]\n",
      " [65 39 87 46 88]]\n"
     ]
    }
   ],
   "source": [
    "# stacking = combining 2 arrays\n",
    "rd.seed(0)\n",
    "A=rd.randint(100,size=(4,5))\n",
    "print(A)"
   ]
  },
  {
   "cell_type": "code",
   "execution_count": 27,
   "id": "247b5c5a",
   "metadata": {},
   "outputs": [
    {
     "name": "stdout",
     "output_type": "stream",
     "text": [
      "[[44 47 64 67 67]\n",
      " [ 9 83 21 36 87]\n",
      " [70 88 88 12 58]\n",
      " [65 39 87 46 88]]\n"
     ]
    }
   ],
   "source": [
    "rd.seed(0)\n",
    "B=rd.randint(100,size=(4,5))\n",
    "print(B)"
   ]
  },
  {
   "cell_type": "code",
   "execution_count": 28,
   "id": "35c1abfa",
   "metadata": {},
   "outputs": [
    {
     "name": "stdout",
     "output_type": "stream",
     "text": [
      "[[168 527 493 534 299]\n",
      " [466  75 360 263 433]\n",
      " [ 47 287 404 124 195]\n",
      " [102  51 359 545 255]]\n"
     ]
    }
   ],
   "source": [
    "rd.seed(2)\n",
    "c=rd.randint(550,size=(4,5))\n",
    "print(c)"
   ]
  },
  {
   "cell_type": "code",
   "execution_count": 29,
   "id": "33007230",
   "metadata": {},
   "outputs": [
    {
     "name": "stdout",
     "output_type": "stream",
     "text": [
      "[[44 47 64 67 67]\n",
      " [ 9 83 21 36 87]\n",
      " [70 88 88 12 58]\n",
      " [65 39 87 46 88]\n",
      " [44 47 64 67 67]\n",
      " [ 9 83 21 36 87]\n",
      " [70 88 88 12 58]\n",
      " [65 39 87 46 88]]\n"
     ]
    }
   ],
   "source": [
    "print(np.vstack((A,B))) #vertical stacking"
   ]
  },
  {
   "cell_type": "code",
   "execution_count": 30,
   "id": "5b826d44",
   "metadata": {},
   "outputs": [
    {
     "name": "stdout",
     "output_type": "stream",
     "text": [
      "[[44 47 64 67 67 44 47 64 67 67]\n",
      " [ 9 83 21 36 87  9 83 21 36 87]\n",
      " [70 88 88 12 58 70 88 88 12 58]\n",
      " [65 39 87 46 88 65 39 87 46 88]]\n"
     ]
    }
   ],
   "source": [
    "print(np.hstack((A,B))) #horizontal stacking"
   ]
  },
  {
   "cell_type": "code",
   "execution_count": 31,
   "id": "0829fb38",
   "metadata": {},
   "outputs": [
    {
     "name": "stdout",
     "output_type": "stream",
     "text": [
      "[44 47 64 67 67  9 83 21 36 87 70 88 88 12 58 65 39 87 46 88]\n"
     ]
    }
   ],
   "source": [
    "print(np.hstack(A))"
   ]
  },
  {
   "cell_type": "code",
   "execution_count": 32,
   "id": "806cb66c",
   "metadata": {},
   "outputs": [
    {
     "data": {
      "text/plain": [
       "[array([[44],\n",
       "        [ 9],\n",
       "        [70],\n",
       "        [65]]),\n",
       " array([[47],\n",
       "        [83],\n",
       "        [88],\n",
       "        [39]]),\n",
       " array([[64],\n",
       "        [21],\n",
       "        [88],\n",
       "        [87]]),\n",
       " array([[67],\n",
       "        [36],\n",
       "        [12],\n",
       "        [46]]),\n",
       " array([[67],\n",
       "        [87],\n",
       "        [58],\n",
       "        [88]])]"
      ]
     },
     "execution_count": 32,
     "metadata": {},
     "output_type": "execute_result"
    }
   ],
   "source": [
    "np.hsplit(A,5)"
   ]
  },
  {
   "cell_type": "code",
   "execution_count": 33,
   "id": "56c54589",
   "metadata": {},
   "outputs": [
    {
     "data": {
      "text/plain": [
       "[array([[168, 527, 493, 534, 299],\n",
       "        [466,  75, 360, 263, 433]]),\n",
       " array([[ 47, 287, 404, 124, 195],\n",
       "        [102,  51, 359, 545, 255]]),\n",
       " array([], shape=(0, 5), dtype=int32),\n",
       " array([], shape=(0, 5), dtype=int32)]"
      ]
     },
     "execution_count": 33,
     "metadata": {},
     "output_type": "execute_result"
    }
   ],
   "source": [
    "np.vsplit(c,(2,5,9)) #col number"
   ]
  },
  {
   "cell_type": "code",
   "execution_count": 38,
   "id": "c4e0f2cf",
   "metadata": {},
   "outputs": [
    {
     "data": {
      "text/plain": [
       "[array([[3.58557516, 9.31696487],\n",
       "        [0.68840391, 6.68436355],\n",
       "        [6.91435909, 3.04299279]]),\n",
       " array([[9.69383103, 3.28877069],\n",
       "        [4.80626486, 0.01696155]]),\n",
       " array([[2.05184848, 1.88866359],\n",
       "        [5.89858211, 1.15127871],\n",
       "        [2.30432121, 0.2385003 ],\n",
       "        [2.90189537, 5.51007644]]),\n",
       " array([], shape=(0, 2), dtype=float64)]"
      ]
     },
     "execution_count": 38,
     "metadata": {},
     "output_type": "execute_result"
    }
   ],
   "source": [
    "np.vsplit(r5,(3,5,9))"
   ]
  },
  {
   "cell_type": "code",
   "execution_count": 39,
   "id": "bf7e3219",
   "metadata": {},
   "outputs": [
    {
     "data": {
      "text/plain": [
       "[array([[3.58557516, 9.31696487],\n",
       "        [0.68840391, 6.68436355],\n",
       "        [6.91435909, 3.04299279]]),\n",
       " array([[9.69383103, 3.28877069],\n",
       "        [4.80626486, 0.01696155],\n",
       "        [2.05184848, 1.88866359]]),\n",
       " array([[5.89858211, 1.15127871],\n",
       "        [2.30432121, 0.2385003 ],\n",
       "        [2.90189537, 5.51007644]])]"
      ]
     },
     "execution_count": 39,
     "metadata": {},
     "output_type": "execute_result"
    }
   ],
   "source": [
    "np.vsplit(r5,3)"
   ]
  },
  {
   "cell_type": "code",
   "execution_count": null,
   "id": "e320809b",
   "metadata": {},
   "outputs": [],
   "source": [
    "np.vsplit(r5,(2,3))"
   ]
  },
  {
   "cell_type": "code",
   "execution_count": 40,
   "id": "9a9927e5",
   "metadata": {},
   "outputs": [
    {
     "data": {
      "text/plain": [
       "array([ 3.        ,  4.88888889,  6.77777778,  8.66666667, 10.55555556,\n",
       "       12.44444444, 14.33333333, 16.22222222, 18.11111111, 20.        ])"
      ]
     },
     "execution_count": 40,
     "metadata": {},
     "output_type": "execute_result"
    }
   ],
   "source": [
    "np.linspace(3,20,10) #start,end,size\n",
    "#common spacing"
   ]
  },
  {
   "cell_type": "code",
   "execution_count": 41,
   "id": "58b7c381",
   "metadata": {},
   "outputs": [
    {
     "name": "stdout",
     "output_type": "stream",
     "text": [
      "[[3.58557516 9.31696487]\n",
      " [0.68840391 6.68436355]\n",
      " [6.91435909 3.04299279]\n",
      " [9.69383103 3.28877069]\n",
      " [4.80626486 0.01696155]\n",
      " [2.05184848 1.88866359]\n",
      " [5.89858211 1.15127871]\n",
      " [2.30432121 0.2385003 ]\n",
      " [2.90189537 5.51007644]]\n"
     ]
    }
   ],
   "source": [
    "print(r5)"
   ]
  },
  {
   "cell_type": "code",
   "execution_count": 54,
   "id": "a74489c0",
   "metadata": {},
   "outputs": [
    {
     "data": {
      "text/plain": [
       "array([[3.58557516, 9.31696487],\n",
       "       [0.68840391, 6.68436355],\n",
       "       [6.91435909, 3.04299279],\n",
       "       [9.69383103, 3.28877069],\n",
       "       [4.80626486, 0.01696155],\n",
       "       [2.05184848, 1.88866359],\n",
       "       [5.89858211, 1.15127871],\n",
       "       [2.30432121, 0.2385003 ],\n",
       "       [2.90189537, 5.51007644]])"
      ]
     },
     "execution_count": 54,
     "metadata": {},
     "output_type": "execute_result"
    }
   ],
   "source": [
    "r5=r5.reshape(9,2)\n",
    "r5"
   ]
  },
  {
   "cell_type": "code",
   "execution_count": 55,
   "id": "7677da45",
   "metadata": {},
   "outputs": [
    {
     "data": {
      "text/plain": [
       "array([50, 56, 66, 78, 88])"
      ]
     },
     "execution_count": 55,
     "metadata": {},
     "output_type": "execute_result"
    }
   ],
   "source": [
    "s=np.array([50,56,66,88,78])\n",
    "np.sort(s)"
   ]
  },
  {
   "cell_type": "code",
   "execution_count": 56,
   "id": "ab922456",
   "metadata": {},
   "outputs": [
    {
     "data": {
      "text/plain": [
       "(array([], dtype=int64),)"
      ]
     },
     "execution_count": 56,
     "metadata": {},
     "output_type": "execute_result"
    }
   ],
   "source": [
    "np.where(s==90)"
   ]
  },
  {
   "cell_type": "code",
   "execution_count": 57,
   "id": "9d31285d",
   "metadata": {},
   "outputs": [
    {
     "data": {
      "text/plain": [
       "(array([], dtype=int64),)"
      ]
     },
     "execution_count": 57,
     "metadata": {},
     "output_type": "execute_result"
    }
   ],
   "source": [
    "np.where(s%2==1)"
   ]
  },
  {
   "cell_type": "code",
   "execution_count": 61,
   "id": "f31b718f",
   "metadata": {},
   "outputs": [
    {
     "name": "stdout",
     "output_type": "stream",
     "text": [
      "[50 56 66 88 78]\n"
     ]
    },
    {
     "data": {
      "text/plain": [
       "array([        50,       2800,     184800,   16262400, 1268467200],\n",
       "      dtype=int32)"
      ]
     },
     "execution_count": 61,
     "metadata": {},
     "output_type": "execute_result"
    }
   ],
   "source": [
    "print(s)\n",
    "np.cumprod(s) #cummulative product"
   ]
  },
  {
   "cell_type": "code",
   "execution_count": 60,
   "id": "d2dac156",
   "metadata": {},
   "outputs": [
    {
     "name": "stdout",
     "output_type": "stream",
     "text": [
      "[50 56 66 88 78]\n",
      "[ 50 106 172 260 338]\n"
     ]
    }
   ],
   "source": [
    "print(s)\n",
    "print(np.cumsum(s)) #cummulative sum"
   ]
  },
  {
   "cell_type": "code",
   "execution_count": 62,
   "id": "9108d908",
   "metadata": {},
   "outputs": [
    {
     "data": {
      "text/plain": [
       "array([[3, 4, 5],\n",
       "       [1, 2, 3]])"
      ]
     },
     "execution_count": 62,
     "metadata": {},
     "output_type": "execute_result"
    }
   ],
   "source": [
    "ar8"
   ]
  },
  {
   "cell_type": "code",
   "execution_count": 63,
   "id": "09f24f61",
   "metadata": {},
   "outputs": [
    {
     "data": {
      "text/plain": [
       "array([[3, 4, 5],\n",
       "       [4, 6, 8]], dtype=int32)"
      ]
     },
     "execution_count": 63,
     "metadata": {},
     "output_type": "execute_result"
    }
   ],
   "source": [
    "np.cumsum(ar8,axis=0)"
   ]
  },
  {
   "cell_type": "code",
   "execution_count": 66,
   "id": "c0f2acf1",
   "metadata": {},
   "outputs": [
    {
     "data": {
      "text/plain": [
       "array([[9, 0, 7, 1],\n",
       "       [7, 8, 9, 0],\n",
       "       [5, 6, 7, 8]])"
      ]
     },
     "execution_count": 66,
     "metadata": {},
     "output_type": "execute_result"
    }
   ],
   "source": [
    "ar10=np.array([[9,0,7,1],[7,8,9,0],[5,6,7,8]])\n",
    "ar10"
   ]
  },
  {
   "cell_type": "code",
   "execution_count": 67,
   "id": "501a554e",
   "metadata": {},
   "outputs": [
    {
     "data": {
      "text/plain": [
       "array([[ 9,  0,  7,  1],\n",
       "       [16,  8, 16,  1],\n",
       "       [21, 14, 23,  9]], dtype=int32)"
      ]
     },
     "execution_count": 67,
     "metadata": {},
     "output_type": "execute_result"
    }
   ],
   "source": [
    "np.cumsum(ar10,axis=0) # axis 0 -> col wise addition"
   ]
  },
  {
   "cell_type": "code",
   "execution_count": 68,
   "id": "432ca206",
   "metadata": {},
   "outputs": [
    {
     "data": {
      "text/plain": [
       "array([[ 9,  9, 16, 17],\n",
       "       [ 7, 15, 24, 24],\n",
       "       [ 5, 11, 18, 26]], dtype=int32)"
      ]
     },
     "execution_count": 68,
     "metadata": {},
     "output_type": "execute_result"
    }
   ],
   "source": [
    "np.cumsum(ar10,axis=1) # axis 1 -> row wise addition"
   ]
  },
  {
   "cell_type": "code",
   "execution_count": 69,
   "id": "41d5a7e5",
   "metadata": {},
   "outputs": [
    {
     "data": {
      "text/plain": [
       "array([[   9,    0,    0,    0],\n",
       "       [   7,   56,  504,    0],\n",
       "       [   5,   30,  210, 1680]], dtype=int32)"
      ]
     },
     "execution_count": 69,
     "metadata": {},
     "output_type": "execute_result"
    }
   ],
   "source": [
    "np.cumprod(ar10,axis=1)"
   ]
  },
  {
   "cell_type": "code",
   "execution_count": 70,
   "id": "df181571",
   "metadata": {},
   "outputs": [
    {
     "data": {
      "text/plain": [
       "array([[  9,   0,   7,   1],\n",
       "       [ 63,   0,  63,   0],\n",
       "       [315,   0, 441,   0]], dtype=int32)"
      ]
     },
     "execution_count": 70,
     "metadata": {},
     "output_type": "execute_result"
    }
   ],
   "source": [
    "np.cumprod(ar10,axis=0)"
   ]
  },
  {
   "cell_type": "markdown",
   "id": "8534020c",
   "metadata": {},
   "source": [
    "# matplotlib\n"
   ]
  },
  {
   "cell_type": "code",
   "execution_count": 71,
   "id": "b5bb6ff5",
   "metadata": {},
   "outputs": [],
   "source": [
    "from matplotlib import pyplot as plt"
   ]
  },
  {
   "cell_type": "code",
   "execution_count": 78,
   "id": "060eed3d",
   "metadata": {},
   "outputs": [
    {
     "data": {
      "text/plain": [
       "[<matplotlib.lines.Line2D at 0x253d05480a0>]"
      ]
     },
     "execution_count": 78,
     "metadata": {},
     "output_type": "execute_result"
    },
    {
     "data": {
      "image/png": "[encoded data removed]",
      "text/plain": [
       "<Figure size 432x288 with 1 Axes>"
      ]
     },
     "metadata": {
      "needs_background": "light"
     },
     "output_type": "display_data"
    }
   ],
   "source": [
    "x=[1,2,3,4]\n",
    "y=[5,6,7,8]\n",
    "plt.plot(x,y)"
   ]
  },
  {
   "cell_type": "code",
   "execution_count": 107,
   "id": "a87e4237",
   "metadata": {},
   "outputs": [
    {
     "data": {
      "text/plain": [
       "[<matplotlib.lines.Line2D at 0x253d2f41580>]"
      ]
     },
     "execution_count": 107,
     "metadata": {},
     "output_type": "execute_result"
    },
    {
     "data": {
      "image/png": "[encoded data removed]",
      "text/plain": [
       "<Figure size 432x288 with 1 Axes>"
      ]
     },
     "metadata": {
      "needs_background": "light"
     },
     "output_type": "display_data"
    }
   ],
   "source": [
    "sub=['Maths','science','geography','History']\n",
    "y=[90,95,95,90]\n",
    "plt.plot(sub,y,color='darkblue',linestyle='--',linewidth=2,marker=\"D\")\n"
   ]
  },
  {
   "cell_type": "code",
   "execution_count": 114,
   "id": "da23ba5c",
   "metadata": {},
   "outputs": [
    {
     "data": {
      "text/plain": [
       "Text(0, 0.5, 'marks')"
      ]
     },
     "execution_count": 114,
     "metadata": {},
     "output_type": "execute_result"
    },
    {
     "data": {
      "image/png": "[encoded data removed]",
      "text/plain": [
       "<Figure size 432x288 with 1 Axes>"
      ]
     },
     "metadata": {
      "needs_background": "light"
     },
     "output_type": "display_data"
    }
   ],
   "source": [
    "sub=['Maths','science','geography','History']\n",
    "stu1=[90,95,95,90]\n",
    "stu2=[88,95,88,90]\n",
    "plt.plot(sub,stu1,color='darkblue',linestyle='--',linewidth=2,marker=\"D\",label=\"sneha\")\n",
    "plt.plot(sub,stu2,color='darkgreen',linestyle='-',linewidth=2,marker=\"*\",label=\"spandana\")\n",
    "plt.legend()\n",
    "plt.title(\"sneha vs spandana\")\n",
    "plt.xlabel(\"subjects\")\n",
    "plt.ylabel(\"marks\")"
   ]
  },
  {
   "cell_type": "code",
   "execution_count": 128,
   "id": "5258691a",
   "metadata": {},
   "outputs": [
    {
     "data": {
      "text/plain": [
       "Text(0, 0.5, 'marks')"
      ]
     },
     "execution_count": 128,
     "metadata": {},
     "output_type": "execute_result"
    },
    {
     "data": {
      "image/png": "[encoded data removed]",
      "text/plain": [
       "<Figure size 432x288 with 1 Axes>"
      ]
     },
     "metadata": {
      "needs_background": "light"
     },
     "output_type": "display_data"
    }
   ],
   "source": [
    "sub=['Maths','science','geography','History']\n",
    "stu1=[90,95,95,90]\n",
    "stu2=[88,95,88,75]\n",
    "plt.bar(sub,stu1,color='pink',label=\"sneha\")\n",
    "plt.bar(sub,stu2,color='lavender',label=\"spandana\")\n",
    "plt.legend()\n",
    "plt.title(\"sneha vs spandana\")\n",
    "plt.xlabel(\"subjects\")\n",
    "plt.ylabel(\"marks\")"
   ]
  },
  {
   "cell_type": "code",
   "execution_count": 135,
   "id": "79141a8c",
   "metadata": {},
   "outputs": [
    {
     "data": {
      "text/plain": [
       "([<matplotlib.patches.Wedge at 0x253d2bc6cd0>,\n",
       "  <matplotlib.patches.Wedge at 0x253d2baa670>,\n",
       "  <matplotlib.patches.Wedge at 0x253d2baab50>,\n",
       "  <matplotlib.patches.Wedge at 0x253d2c0d1f0>],\n",
       " [Text(0.6795752347412215, 0.8649725431055103, 's'),\n",
       "  Text(-1.042295275625534, 0.35159715358445714, 'u'),\n",
       "  Text(-0.13998474071218417, -1.1918071456270694, 'b'),\n",
       "  Text(0.9868689563727104, -0.48589058742461516, 'j')])"
      ]
     },
     "execution_count": 135,
     "metadata": {},
     "output_type": "execute_result"
    },
    {
     "data": {
      "image/png": "[encoded data removed]",
      "text/plain": [
       "<Figure size 432x288 with 1 Axes>"
      ]
     },
     "metadata": {},
     "output_type": "display_data"
    }
   ],
   "source": [
    "subj=['python','AIML','java','c']\n",
    "val=[89,99,76,45]\n",
    "ex=[0,0,0.10,0]\n",
    "plt.pie(val,labels=\"subj\",explode=ex)"
   ]
  },
  {
   "cell_type": "code",
   "execution_count": 137,
   "id": "ec8c007c",
   "metadata": {},
   "outputs": [
    {
     "data": {
      "text/plain": [
       "([<matplotlib.patches.Wedge at 0x253d2eef250>,\n",
       "  <matplotlib.patches.Wedge at 0x253d2eefbb0>,\n",
       "  <matplotlib.patches.Wedge at 0x253d2d2c3a0>,\n",
       "  <matplotlib.patches.Wedge at 0x253d2d2cf40>],\n",
       " [Text(-0.6795752347412213, -0.8649725431055104, 's'),\n",
       "  Text(1.0422952756255341, -0.3515971535844568, 'u'),\n",
       "  Text(0.1283193456528356, 1.0924898834914802, 'b'),\n",
       "  Text(-0.9868689563727099, 0.4858905874246162, 'j')])"
      ]
     },
     "execution_count": 137,
     "metadata": {},
     "output_type": "execute_result"
    },
    {
     "data": {
      "image/png": "[encoded data removed]",
      "text/plain": [
       "<Figure size 432x288 with 1 Axes>"
      ]
     },
     "metadata": {},
     "output_type": "display_data"
    }
   ],
   "source": [
    "subj=['python','AIML','java','c']\n",
    "val=[89,99,76,45]\n",
    "#ex=[0,0,0.10,0]\n",
    "plt.pie(val,labels=\"subj\",startangle=180)"
   ]
  },
  {
   "cell_type": "code",
   "execution_count": 138,
   "id": "93d2adea",
   "metadata": {},
   "outputs": [
    {
     "data": {
      "text/plain": [
       "<matplotlib.collections.PathCollection at 0x253d2e6dac0>"
      ]
     },
     "execution_count": 138,
     "metadata": {},
     "output_type": "execute_result"
    },
    {
     "data": {
      "image/png": "[encoded data removed]",
      "text/plain": [
       "<Figure size 432x288 with 1 Axes>"
      ]
     },
     "metadata": {
      "needs_background": "light"
     },
     "output_type": "display_data"
    }
   ],
   "source": [
    "x=[1,2,3,4]\n",
    "y=[5,7,9,2]\n",
    "plt.scatter(x,y)"
   ]
  },
  {
   "cell_type": "markdown",
   "id": "176539a4",
   "metadata": {},
   "source": [
    "The scores between india vs aus for every 5 overs are given india have completed its batting all 50 overs and aus has completed 25 overs,create a line plot with proper x,y label and legend ind runs -> 25,51,84,131,160,189,220,250,267,287\n",
    "aus runs -> 15,41,94,110 and 151"
   ]
  },
  {
   "cell_type": "code",
   "execution_count": 153,
   "id": "c76eb170",
   "metadata": {},
   "outputs": [
    {
     "data": {
      "text/plain": [
       "Text(0, 0.5, 'runs')"
      ]
     },
     "execution_count": 153,
     "metadata": {},
     "output_type": "execute_result"
    },
    {
     "data": {
      "image/png": "[encoded data removed]",
      "text/plain": [
       "<Figure size 432x288 with 1 Axes>"
      ]
     },
     "metadata": {
      "needs_background": "light"
     },
     "output_type": "display_data"
    }
   ],
   "source": [
    "runs_i=[ 25,51,84,131,160,189,220,250,267,287]\n",
    "runs_a=[15,41,94,110,151]\n",
    "overs_i=np.arange(5,51,5)\n",
    "overs_a=np.arange(5,26,5)\n",
    "plt.plot(overs_i,runs_i,color='darkblue',linestyle='--',linewidth=2,marker=\"D\",label=\"ind\")\n",
    "plt.plot(overs_a,runs_a,color='darkgreen',linestyle='-',linewidth=2,marker=\"*\",label=\"aus\")\n",
    "plt.legend()\n",
    "plt.title(\"ind vs aus\")\n",
    "plt.xlabel(\"overs\")\n",
    "plt.ylabel(\"runs\")"
   ]
  },
  {
   "cell_type": "markdown",
   "id": "b773a7e8",
   "metadata": {},
   "source": [
    "# pandas"
   ]
  },
  {
   "cell_type": "code",
   "execution_count": 1,
   "id": "3d325c19",
   "metadata": {},
   "outputs": [],
   "source": [
    "import pandas as pd"
   ]
  },
  {
   "cell_type": "code",
   "execution_count": 6,
   "id": "c314ed39",
   "metadata": {},
   "outputs": [],
   "source": [
    "val=['sneha','spandana','sowmya','suma']\n",
    "ind=[67,77,61,12]\n",
    "s=pd.Series(val,index=ind)\n"
   ]
  },
  {
   "cell_type": "code",
   "execution_count": 7,
   "id": "60027829",
   "metadata": {},
   "outputs": [
    {
     "data": {
      "text/plain": [
       "67       sneha\n",
       "77    spandana\n",
       "61      sowmya\n",
       "12        suma\n",
       "dtype: object"
      ]
     },
     "execution_count": 7,
     "metadata": {},
     "output_type": "execute_result"
    }
   ],
   "source": [
    "s"
   ]
  },
  {
   "cell_type": "code",
   "execution_count": 8,
   "id": "28317d74",
   "metadata": {},
   "outputs": [
    {
     "data": {
      "text/html": [
       "<div>\n",
       "<style scoped>\n",
       "    .dataframe tbody tr th:only-of-type {\n",
       "        vertical-align: middle;\n",
       "    }\n",
       "\n",
       "    .dataframe tbody tr th {\n",
       "        vertical-align: top;\n",
       "    }\n",
       "\n",
       "    .dataframe thead th {\n",
       "        text-align: right;\n",
       "    }\n",
       "</style>\n",
       "<table border=\"1\" class=\"dataframe\">\n",
       "  <thead>\n",
       "    <tr style=\"text-align: right;\">\n",
       "      <th></th>\n",
       "      <th>Names</th>\n",
       "      <th>Marks</th>\n",
       "      <th>Grade</th>\n",
       "    </tr>\n",
       "  </thead>\n",
       "  <tbody>\n",
       "  </tbody>\n",
       "</table>\n",
       "</div>"
      ],
      "text/plain": [
       "Empty DataFrame\n",
       "Columns: [Names, Marks, Grade]\n",
       "Index: []"
      ]
     },
     "execution_count": 8,
     "metadata": {},
     "output_type": "execute_result"
    }
   ],
   "source": [
    "mydf=pd.DataFrame(columns=['Names','Marks','Grade'])\n",
    "mydf"
   ]
  },
  {
   "cell_type": "code",
   "execution_count": 32,
   "id": "4484afdc",
   "metadata": {},
   "outputs": [],
   "source": [
    "N=['sneha','spandana','sowmya','suma','sowmyashree']\n",
    "M=[90,99,98,90,99]\n",
    "G=['A','A','A','A','A']"
   ]
  },
  {
   "cell_type": "code",
   "execution_count": 33,
   "id": "14edd590",
   "metadata": {},
   "outputs": [
    {
     "data": {
      "text/html": [
       "<div>\n",
       "<style scoped>\n",
       "    .dataframe tbody tr th:only-of-type {\n",
       "        vertical-align: middle;\n",
       "    }\n",
       "\n",
       "    .dataframe tbody tr th {\n",
       "        vertical-align: top;\n",
       "    }\n",
       "\n",
       "    .dataframe thead th {\n",
       "        text-align: right;\n",
       "    }\n",
       "</style>\n",
       "<table border=\"1\" class=\"dataframe\">\n",
       "  <thead>\n",
       "    <tr style=\"text-align: right;\">\n",
       "      <th></th>\n",
       "      <th>Names</th>\n",
       "      <th>Marks</th>\n",
       "      <th>Grade</th>\n",
       "      <th>Grades</th>\n",
       "      <th>grade</th>\n",
       "    </tr>\n",
       "  </thead>\n",
       "  <tbody>\n",
       "    <tr>\n",
       "      <th>0</th>\n",
       "      <td>sneha</td>\n",
       "      <td>90</td>\n",
       "      <td>A</td>\n",
       "      <td>A</td>\n",
       "      <td>A</td>\n",
       "    </tr>\n",
       "    <tr>\n",
       "      <th>1</th>\n",
       "      <td>spandana</td>\n",
       "      <td>99</td>\n",
       "      <td>A</td>\n",
       "      <td>A</td>\n",
       "      <td>A</td>\n",
       "    </tr>\n",
       "    <tr>\n",
       "      <th>2</th>\n",
       "      <td>sowmya</td>\n",
       "      <td>98</td>\n",
       "      <td>A</td>\n",
       "      <td>A</td>\n",
       "      <td>A</td>\n",
       "    </tr>\n",
       "    <tr>\n",
       "      <th>3</th>\n",
       "      <td>suma</td>\n",
       "      <td>90</td>\n",
       "      <td>A</td>\n",
       "      <td>A</td>\n",
       "      <td>A</td>\n",
       "    </tr>\n",
       "  </tbody>\n",
       "</table>\n",
       "</div>"
      ],
      "text/plain": [
       "      Names  Marks Grade Grades grade\n",
       "0     sneha     90     A      A     A\n",
       "1  spandana     99     A      A     A\n",
       "2    sowmya     98     A      A     A\n",
       "3      suma     90     A      A     A"
      ]
     },
     "execution_count": 33,
     "metadata": {},
     "output_type": "execute_result"
    }
   ],
   "source": [
    "mydf"
   ]
  },
  {
   "cell_type": "code",
   "execution_count": 35,
   "id": "a9143a4b",
   "metadata": {},
   "outputs": [],
   "source": [
    "dfcsv=pd.read_csv(r\"C:\\Users\\sneha\\Downloads\\diabetcsv(1).csv\")"
   ]
  },
  {
   "cell_type": "code",
   "execution_count": 36,
   "id": "6914c688",
   "metadata": {},
   "outputs": [
    {
     "data": {
      "text/html": [
       "<div>\n",
       "<style scoped>\n",
       "    .dataframe tbody tr th:only-of-type {\n",
       "        vertical-align: middle;\n",
       "    }\n",
       "\n",
       "    .dataframe tbody tr th {\n",
       "        vertical-align: top;\n",
       "    }\n",
       "\n",
       "    .dataframe thead th {\n",
       "        text-align: right;\n",
       "    }\n",
       "</style>\n",
       "<table border=\"1\" class=\"dataframe\">\n",
       "  <thead>\n",
       "    <tr style=\"text-align: right;\">\n",
       "      <th></th>\n",
       "      <th>preg</th>\n",
       "      <th>plas</th>\n",
       "      <th>pres</th>\n",
       "      <th>skin</th>\n",
       "      <th>insu</th>\n",
       "      <th>mass</th>\n",
       "      <th>pedi</th>\n",
       "      <th>age</th>\n",
       "      <th>class</th>\n",
       "    </tr>\n",
       "  </thead>\n",
       "  <tbody>\n",
       "    <tr>\n",
       "      <th>0</th>\n",
       "      <td>6</td>\n",
       "      <td>148</td>\n",
       "      <td>72</td>\n",
       "      <td>35</td>\n",
       "      <td>0</td>\n",
       "      <td>33.6</td>\n",
       "      <td>0.627</td>\n",
       "      <td>50</td>\n",
       "      <td>tested_positive</td>\n",
       "    </tr>\n",
       "    <tr>\n",
       "      <th>1</th>\n",
       "      <td>1</td>\n",
       "      <td>85</td>\n",
       "      <td>66</td>\n",
       "      <td>29</td>\n",
       "      <td>0</td>\n",
       "      <td>26.6</td>\n",
       "      <td>0.351</td>\n",
       "      <td>31</td>\n",
       "      <td>tested_negative</td>\n",
       "    </tr>\n",
       "    <tr>\n",
       "      <th>2</th>\n",
       "      <td>8</td>\n",
       "      <td>183</td>\n",
       "      <td>64</td>\n",
       "      <td>0</td>\n",
       "      <td>0</td>\n",
       "      <td>23.3</td>\n",
       "      <td>0.672</td>\n",
       "      <td>32</td>\n",
       "      <td>tested_positive</td>\n",
       "    </tr>\n",
       "    <tr>\n",
       "      <th>3</th>\n",
       "      <td>1</td>\n",
       "      <td>89</td>\n",
       "      <td>66</td>\n",
       "      <td>23</td>\n",
       "      <td>94</td>\n",
       "      <td>28.1</td>\n",
       "      <td>0.167</td>\n",
       "      <td>21</td>\n",
       "      <td>tested_negative</td>\n",
       "    </tr>\n",
       "    <tr>\n",
       "      <th>4</th>\n",
       "      <td>0</td>\n",
       "      <td>137</td>\n",
       "      <td>40</td>\n",
       "      <td>35</td>\n",
       "      <td>168</td>\n",
       "      <td>43.1</td>\n",
       "      <td>2.288</td>\n",
       "      <td>33</td>\n",
       "      <td>tested_positive</td>\n",
       "    </tr>\n",
       "    <tr>\n",
       "      <th>...</th>\n",
       "      <td>...</td>\n",
       "      <td>...</td>\n",
       "      <td>...</td>\n",
       "      <td>...</td>\n",
       "      <td>...</td>\n",
       "      <td>...</td>\n",
       "      <td>...</td>\n",
       "      <td>...</td>\n",
       "      <td>...</td>\n",
       "    </tr>\n",
       "    <tr>\n",
       "      <th>763</th>\n",
       "      <td>10</td>\n",
       "      <td>101</td>\n",
       "      <td>76</td>\n",
       "      <td>48</td>\n",
       "      <td>180</td>\n",
       "      <td>32.9</td>\n",
       "      <td>0.171</td>\n",
       "      <td>63</td>\n",
       "      <td>tested_negative</td>\n",
       "    </tr>\n",
       "    <tr>\n",
       "      <th>764</th>\n",
       "      <td>2</td>\n",
       "      <td>122</td>\n",
       "      <td>70</td>\n",
       "      <td>27</td>\n",
       "      <td>0</td>\n",
       "      <td>36.8</td>\n",
       "      <td>0.340</td>\n",
       "      <td>27</td>\n",
       "      <td>tested_negative</td>\n",
       "    </tr>\n",
       "    <tr>\n",
       "      <th>765</th>\n",
       "      <td>5</td>\n",
       "      <td>121</td>\n",
       "      <td>72</td>\n",
       "      <td>23</td>\n",
       "      <td>112</td>\n",
       "      <td>26.2</td>\n",
       "      <td>0.245</td>\n",
       "      <td>30</td>\n",
       "      <td>tested_negative</td>\n",
       "    </tr>\n",
       "    <tr>\n",
       "      <th>766</th>\n",
       "      <td>1</td>\n",
       "      <td>126</td>\n",
       "      <td>60</td>\n",
       "      <td>0</td>\n",
       "      <td>0</td>\n",
       "      <td>30.1</td>\n",
       "      <td>0.349</td>\n",
       "      <td>47</td>\n",
       "      <td>tested_positive</td>\n",
       "    </tr>\n",
       "    <tr>\n",
       "      <th>767</th>\n",
       "      <td>1</td>\n",
       "      <td>93</td>\n",
       "      <td>70</td>\n",
       "      <td>31</td>\n",
       "      <td>0</td>\n",
       "      <td>30.4</td>\n",
       "      <td>0.315</td>\n",
       "      <td>23</td>\n",
       "      <td>tested_negative</td>\n",
       "    </tr>\n",
       "  </tbody>\n",
       "</table>\n",
       "<p>768 rows × 9 columns</p>\n",
       "</div>"
      ],
      "text/plain": [
       "     preg  plas  pres  skin  insu  mass   pedi  age            class\n",
       "0       6   148    72    35     0  33.6  0.627   50  tested_positive\n",
       "1       1    85    66    29     0  26.6  0.351   31  tested_negative\n",
       "2       8   183    64     0     0  23.3  0.672   32  tested_positive\n",
       "3       1    89    66    23    94  28.1  0.167   21  tested_negative\n",
       "4       0   137    40    35   168  43.1  2.288   33  tested_positive\n",
       "..    ...   ...   ...   ...   ...   ...    ...  ...              ...\n",
       "763    10   101    76    48   180  32.9  0.171   63  tested_negative\n",
       "764     2   122    70    27     0  36.8  0.340   27  tested_negative\n",
       "765     5   121    72    23   112  26.2  0.245   30  tested_negative\n",
       "766     1   126    60     0     0  30.1  0.349   47  tested_positive\n",
       "767     1    93    70    31     0  30.4  0.315   23  tested_negative\n",
       "\n",
       "[768 rows x 9 columns]"
      ]
     },
     "execution_count": 36,
     "metadata": {},
     "output_type": "execute_result"
    }
   ],
   "source": [
    "dfcsv"
   ]
  },
  {
   "cell_type": "code",
   "execution_count": 37,
   "id": "88fc5555",
   "metadata": {},
   "outputs": [],
   "source": [
    "dfex=pd.read_excel(r\"C:\\Users\\sneha\\Downloads\\diabetes.xlsx\")"
   ]
  },
  {
   "cell_type": "code",
   "execution_count": 38,
   "id": "1fae44c5",
   "metadata": {},
   "outputs": [
    {
     "data": {
      "text/html": [
       "<div>\n",
       "<style scoped>\n",
       "    .dataframe tbody tr th:only-of-type {\n",
       "        vertical-align: middle;\n",
       "    }\n",
       "\n",
       "    .dataframe tbody tr th {\n",
       "        vertical-align: top;\n",
       "    }\n",
       "\n",
       "    .dataframe thead th {\n",
       "        text-align: right;\n",
       "    }\n",
       "</style>\n",
       "<table border=\"1\" class=\"dataframe\">\n",
       "  <thead>\n",
       "    <tr style=\"text-align: right;\">\n",
       "      <th></th>\n",
       "      <th>preg</th>\n",
       "      <th>plas</th>\n",
       "      <th>pres</th>\n",
       "      <th>skin</th>\n",
       "      <th>insu</th>\n",
       "      <th>mass</th>\n",
       "      <th>pedi</th>\n",
       "      <th>age</th>\n",
       "      <th>class</th>\n",
       "    </tr>\n",
       "  </thead>\n",
       "  <tbody>\n",
       "    <tr>\n",
       "      <th>0</th>\n",
       "      <td>6</td>\n",
       "      <td>148</td>\n",
       "      <td>72</td>\n",
       "      <td>35</td>\n",
       "      <td>0</td>\n",
       "      <td>33.6</td>\n",
       "      <td>0.627</td>\n",
       "      <td>50</td>\n",
       "      <td>tested_positive</td>\n",
       "    </tr>\n",
       "    <tr>\n",
       "      <th>1</th>\n",
       "      <td>1</td>\n",
       "      <td>85</td>\n",
       "      <td>66</td>\n",
       "      <td>29</td>\n",
       "      <td>0</td>\n",
       "      <td>26.6</td>\n",
       "      <td>0.351</td>\n",
       "      <td>31</td>\n",
       "      <td>tested_negative</td>\n",
       "    </tr>\n",
       "    <tr>\n",
       "      <th>2</th>\n",
       "      <td>8</td>\n",
       "      <td>183</td>\n",
       "      <td>64</td>\n",
       "      <td>0</td>\n",
       "      <td>0</td>\n",
       "      <td>23.3</td>\n",
       "      <td>0.672</td>\n",
       "      <td>32</td>\n",
       "      <td>tested_positive</td>\n",
       "    </tr>\n",
       "    <tr>\n",
       "      <th>3</th>\n",
       "      <td>1</td>\n",
       "      <td>89</td>\n",
       "      <td>66</td>\n",
       "      <td>23</td>\n",
       "      <td>94</td>\n",
       "      <td>28.1</td>\n",
       "      <td>0.167</td>\n",
       "      <td>21</td>\n",
       "      <td>tested_negative</td>\n",
       "    </tr>\n",
       "    <tr>\n",
       "      <th>4</th>\n",
       "      <td>0</td>\n",
       "      <td>137</td>\n",
       "      <td>40</td>\n",
       "      <td>35</td>\n",
       "      <td>168</td>\n",
       "      <td>43.1</td>\n",
       "      <td>2.288</td>\n",
       "      <td>33</td>\n",
       "      <td>tested_positive</td>\n",
       "    </tr>\n",
       "    <tr>\n",
       "      <th>...</th>\n",
       "      <td>...</td>\n",
       "      <td>...</td>\n",
       "      <td>...</td>\n",
       "      <td>...</td>\n",
       "      <td>...</td>\n",
       "      <td>...</td>\n",
       "      <td>...</td>\n",
       "      <td>...</td>\n",
       "      <td>...</td>\n",
       "    </tr>\n",
       "    <tr>\n",
       "      <th>763</th>\n",
       "      <td>10</td>\n",
       "      <td>101</td>\n",
       "      <td>76</td>\n",
       "      <td>48</td>\n",
       "      <td>180</td>\n",
       "      <td>32.9</td>\n",
       "      <td>0.171</td>\n",
       "      <td>63</td>\n",
       "      <td>tested_negative</td>\n",
       "    </tr>\n",
       "    <tr>\n",
       "      <th>764</th>\n",
       "      <td>2</td>\n",
       "      <td>122</td>\n",
       "      <td>70</td>\n",
       "      <td>27</td>\n",
       "      <td>0</td>\n",
       "      <td>36.8</td>\n",
       "      <td>0.340</td>\n",
       "      <td>27</td>\n",
       "      <td>tested_negative</td>\n",
       "    </tr>\n",
       "    <tr>\n",
       "      <th>765</th>\n",
       "      <td>5</td>\n",
       "      <td>121</td>\n",
       "      <td>72</td>\n",
       "      <td>23</td>\n",
       "      <td>112</td>\n",
       "      <td>26.2</td>\n",
       "      <td>0.245</td>\n",
       "      <td>30</td>\n",
       "      <td>tested_negative</td>\n",
       "    </tr>\n",
       "    <tr>\n",
       "      <th>766</th>\n",
       "      <td>1</td>\n",
       "      <td>126</td>\n",
       "      <td>60</td>\n",
       "      <td>0</td>\n",
       "      <td>0</td>\n",
       "      <td>30.1</td>\n",
       "      <td>0.349</td>\n",
       "      <td>47</td>\n",
       "      <td>tested_positive</td>\n",
       "    </tr>\n",
       "    <tr>\n",
       "      <th>767</th>\n",
       "      <td>1</td>\n",
       "      <td>93</td>\n",
       "      <td>70</td>\n",
       "      <td>31</td>\n",
       "      <td>0</td>\n",
       "      <td>30.4</td>\n",
       "      <td>0.315</td>\n",
       "      <td>23</td>\n",
       "      <td>tested_negative</td>\n",
       "    </tr>\n",
       "  </tbody>\n",
       "</table>\n",
       "<p>768 rows × 9 columns</p>\n",
       "</div>"
      ],
      "text/plain": [
       "     preg  plas  pres  skin  insu  mass   pedi  age            class\n",
       "0       6   148    72    35     0  33.6  0.627   50  tested_positive\n",
       "1       1    85    66    29     0  26.6  0.351   31  tested_negative\n",
       "2       8   183    64     0     0  23.3  0.672   32  tested_positive\n",
       "3       1    89    66    23    94  28.1  0.167   21  tested_negative\n",
       "4       0   137    40    35   168  43.1  2.288   33  tested_positive\n",
       "..    ...   ...   ...   ...   ...   ...    ...  ...              ...\n",
       "763    10   101    76    48   180  32.9  0.171   63  tested_negative\n",
       "764     2   122    70    27     0  36.8  0.340   27  tested_negative\n",
       "765     5   121    72    23   112  26.2  0.245   30  tested_negative\n",
       "766     1   126    60     0     0  30.1  0.349   47  tested_positive\n",
       "767     1    93    70    31     0  30.4  0.315   23  tested_negative\n",
       "\n",
       "[768 rows x 9 columns]"
      ]
     },
     "execution_count": 38,
     "metadata": {},
     "output_type": "execute_result"
    }
   ],
   "source": [
    "dfex"
   ]
  },
  {
   "cell_type": "code",
   "execution_count": 39,
   "id": "d42253ce",
   "metadata": {},
   "outputs": [],
   "source": [
    "dftxt=pd.read_csv(r\"C:\\Users\\sneha\\Downloads\\grades_withnulls(1).txt\")"
   ]
  },
  {
   "cell_type": "code",
   "execution_count": 40,
   "id": "73f85f66",
   "metadata": {},
   "outputs": [
    {
     "data": {
      "text/html": [
       "<div>\n",
       "<style scoped>\n",
       "    .dataframe tbody tr th:only-of-type {\n",
       "        vertical-align: middle;\n",
       "    }\n",
       "\n",
       "    .dataframe tbody tr th {\n",
       "        vertical-align: top;\n",
       "    }\n",
       "\n",
       "    .dataframe thead th {\n",
       "        text-align: right;\n",
       "    }\n",
       "</style>\n",
       "<table border=\"1\" class=\"dataframe\">\n",
       "  <thead>\n",
       "    <tr style=\"text-align: right;\">\n",
       "      <th></th>\n",
       "      <th>Names Initials SEM1 SEM2 SEM3 Grade Placed</th>\n",
       "    </tr>\n",
       "  </thead>\n",
       "  <tbody>\n",
       "    <tr>\n",
       "      <th>0</th>\n",
       "      <td>Joe K 9.8 10 9.9 A+ 1</td>\n",
       "    </tr>\n",
       "    <tr>\n",
       "      <th>1</th>\n",
       "      <td>Rajesh M 8.9 9.1 9.3 A 1</td>\n",
       "    </tr>\n",
       "    <tr>\n",
       "      <th>2</th>\n",
       "      <td>Kissan V 9.9 9.8 10 A 0</td>\n",
       "    </tr>\n",
       "    <tr>\n",
       "      <th>3</th>\n",
       "      <td>Mary N 7.7 8 NaN B 0</td>\n",
       "    </tr>\n",
       "    <tr>\n",
       "      <th>4</th>\n",
       "      <td>Jeen K 9.8 9.1 9.9 A+ 1</td>\n",
       "    </tr>\n",
       "    <tr>\n",
       "      <th>5</th>\n",
       "      <td>Raj M 8.9 9.1 9.3 A 1</td>\n",
       "    </tr>\n",
       "    <tr>\n",
       "      <th>6</th>\n",
       "      <td>Hassan V 9.9 9 9.2 A 1</td>\n",
       "    </tr>\n",
       "    <tr>\n",
       "      <th>7</th>\n",
       "      <td>Mari N 7.7 8 7.1 B 1</td>\n",
       "    </tr>\n",
       "    <tr>\n",
       "      <th>8</th>\n",
       "      <td>Jess K NaN 9.1 9.9 A+ 1</td>\n",
       "    </tr>\n",
       "    <tr>\n",
       "      <th>9</th>\n",
       "      <td>Rajini M NaN 9.1 9.3 A 0</td>\n",
       "    </tr>\n",
       "    <tr>\n",
       "      <th>10</th>\n",
       "      <td>Kiran V NaN 9.3 9.2 A 0</td>\n",
       "    </tr>\n",
       "    <tr>\n",
       "      <th>11</th>\n",
       "      <td>Maya N 7.7 8 7.1 B 0</td>\n",
       "    </tr>\n",
       "    <tr>\n",
       "      <th>12</th>\n",
       "      <td>Jolin K 9.8 9.1 9.9 A+ 1</td>\n",
       "    </tr>\n",
       "    <tr>\n",
       "      <th>13</th>\n",
       "      <td>Rajesh M 8.9 9.1 9.3 A 1</td>\n",
       "    </tr>\n",
       "    <tr>\n",
       "      <th>14</th>\n",
       "      <td>Riya M 9.3 9.9 10 A 1</td>\n",
       "    </tr>\n",
       "    <tr>\n",
       "      <th>15</th>\n",
       "      <td>Sana V 9.9 9.3 9.2 A 0</td>\n",
       "    </tr>\n",
       "    <tr>\n",
       "      <th>16</th>\n",
       "      <td>Mark N 7.7 8 7 B 0</td>\n",
       "    </tr>\n",
       "  </tbody>\n",
       "</table>\n",
       "</div>"
      ],
      "text/plain": [
       "   Names Initials SEM1 SEM2 SEM3 Grade Placed\n",
       "0                       Joe K 9.8 10 9.9 A+ 1\n",
       "1                   Rajesh M 8.9 9.1 9.3 A 1 \n",
       "2                     Kissan V 9.9 9.8 10 A 0\n",
       "3                        Mary N 7.7 8 NaN B 0\n",
       "4                     Jeen K 9.8 9.1 9.9 A+ 1\n",
       "5                       Raj M 8.9 9.1 9.3 A 1\n",
       "6                      Hassan V 9.9 9 9.2 A 1\n",
       "7                        Mari N 7.7 8 7.1 B 1\n",
       "8                     Jess K NaN 9.1 9.9 A+ 1\n",
       "9                    Rajini M NaN 9.1 9.3 A 0\n",
       "10                    Kiran V NaN 9.3 9.2 A 0\n",
       "11                       Maya N 7.7 8 7.1 B 0\n",
       "12                   Jolin K 9.8 9.1 9.9 A+ 1\n",
       "13                   Rajesh M 8.9 9.1 9.3 A 1\n",
       "14                      Riya M 9.3 9.9 10 A 1\n",
       "15                     Sana V 9.9 9.3 9.2 A 0\n",
       "16                         Mark N 7.7 8 7 B 0"
      ]
     },
     "execution_count": 40,
     "metadata": {},
     "output_type": "execute_result"
    }
   ],
   "source": [
    "dftxt"
   ]
  },
  {
   "cell_type": "code",
   "execution_count": 41,
   "id": "995f3e16",
   "metadata": {},
   "outputs": [
    {
     "data": {
      "text/html": [
       "<div>\n",
       "<style scoped>\n",
       "    .dataframe tbody tr th:only-of-type {\n",
       "        vertical-align: middle;\n",
       "    }\n",
       "\n",
       "    .dataframe tbody tr th {\n",
       "        vertical-align: top;\n",
       "    }\n",
       "\n",
       "    .dataframe thead th {\n",
       "        text-align: right;\n",
       "    }\n",
       "</style>\n",
       "<table border=\"1\" class=\"dataframe\">\n",
       "  <thead>\n",
       "    <tr style=\"text-align: right;\">\n",
       "      <th></th>\n",
       "      <th>preg</th>\n",
       "      <th>plas</th>\n",
       "      <th>pres</th>\n",
       "      <th>skin</th>\n",
       "      <th>insu</th>\n",
       "      <th>mass</th>\n",
       "      <th>pedi</th>\n",
       "      <th>age</th>\n",
       "    </tr>\n",
       "  </thead>\n",
       "  <tbody>\n",
       "    <tr>\n",
       "      <th>count</th>\n",
       "      <td>768.000000</td>\n",
       "      <td>768.000000</td>\n",
       "      <td>768.000000</td>\n",
       "      <td>768.000000</td>\n",
       "      <td>768.000000</td>\n",
       "      <td>768.000000</td>\n",
       "      <td>768.000000</td>\n",
       "      <td>768.000000</td>\n",
       "    </tr>\n",
       "    <tr>\n",
       "      <th>mean</th>\n",
       "      <td>3.845052</td>\n",
       "      <td>120.894531</td>\n",
       "      <td>69.105469</td>\n",
       "      <td>20.536458</td>\n",
       "      <td>79.799479</td>\n",
       "      <td>31.992578</td>\n",
       "      <td>0.471876</td>\n",
       "      <td>33.240885</td>\n",
       "    </tr>\n",
       "    <tr>\n",
       "      <th>std</th>\n",
       "      <td>3.369578</td>\n",
       "      <td>31.972618</td>\n",
       "      <td>19.355807</td>\n",
       "      <td>15.952218</td>\n",
       "      <td>115.244002</td>\n",
       "      <td>7.884160</td>\n",
       "      <td>0.331329</td>\n",
       "      <td>11.760232</td>\n",
       "    </tr>\n",
       "    <tr>\n",
       "      <th>min</th>\n",
       "      <td>0.000000</td>\n",
       "      <td>0.000000</td>\n",
       "      <td>0.000000</td>\n",
       "      <td>0.000000</td>\n",
       "      <td>0.000000</td>\n",
       "      <td>0.000000</td>\n",
       "      <td>0.078000</td>\n",
       "      <td>21.000000</td>\n",
       "    </tr>\n",
       "    <tr>\n",
       "      <th>25%</th>\n",
       "      <td>1.000000</td>\n",
       "      <td>99.000000</td>\n",
       "      <td>62.000000</td>\n",
       "      <td>0.000000</td>\n",
       "      <td>0.000000</td>\n",
       "      <td>27.300000</td>\n",
       "      <td>0.243750</td>\n",
       "      <td>24.000000</td>\n",
       "    </tr>\n",
       "    <tr>\n",
       "      <th>50%</th>\n",
       "      <td>3.000000</td>\n",
       "      <td>117.000000</td>\n",
       "      <td>72.000000</td>\n",
       "      <td>23.000000</td>\n",
       "      <td>30.500000</td>\n",
       "      <td>32.000000</td>\n",
       "      <td>0.372500</td>\n",
       "      <td>29.000000</td>\n",
       "    </tr>\n",
       "    <tr>\n",
       "      <th>75%</th>\n",
       "      <td>6.000000</td>\n",
       "      <td>140.250000</td>\n",
       "      <td>80.000000</td>\n",
       "      <td>32.000000</td>\n",
       "      <td>127.250000</td>\n",
       "      <td>36.600000</td>\n",
       "      <td>0.626250</td>\n",
       "      <td>41.000000</td>\n",
       "    </tr>\n",
       "    <tr>\n",
       "      <th>max</th>\n",
       "      <td>17.000000</td>\n",
       "      <td>199.000000</td>\n",
       "      <td>122.000000</td>\n",
       "      <td>99.000000</td>\n",
       "      <td>846.000000</td>\n",
       "      <td>67.100000</td>\n",
       "      <td>2.420000</td>\n",
       "      <td>81.000000</td>\n",
       "    </tr>\n",
       "  </tbody>\n",
       "</table>\n",
       "</div>"
      ],
      "text/plain": [
       "             preg        plas        pres        skin        insu        mass  \\\n",
       "count  768.000000  768.000000  768.000000  768.000000  768.000000  768.000000   \n",
       "mean     3.845052  120.894531   69.105469   20.536458   79.799479   31.992578   \n",
       "std      3.369578   31.972618   19.355807   15.952218  115.244002    7.884160   \n",
       "min      0.000000    0.000000    0.000000    0.000000    0.000000    0.000000   \n",
       "25%      1.000000   99.000000   62.000000    0.000000    0.000000   27.300000   \n",
       "50%      3.000000  117.000000   72.000000   23.000000   30.500000   32.000000   \n",
       "75%      6.000000  140.250000   80.000000   32.000000  127.250000   36.600000   \n",
       "max     17.000000  199.000000  122.000000   99.000000  846.000000   67.100000   \n",
       "\n",
       "             pedi         age  \n",
       "count  768.000000  768.000000  \n",
       "mean     0.471876   33.240885  \n",
       "std      0.331329   11.760232  \n",
       "min      0.078000   21.000000  \n",
       "25%      0.243750   24.000000  \n",
       "50%      0.372500   29.000000  \n",
       "75%      0.626250   41.000000  \n",
       "max      2.420000   81.000000  "
      ]
     },
     "execution_count": 41,
     "metadata": {},
     "output_type": "execute_result"
    }
   ],
   "source": [
    "dfex.describe()"
   ]
  },
  {
   "cell_type": "code",
   "execution_count": 46,
   "id": "c79bb8f0",
   "metadata": {},
   "outputs": [],
   "source": [
    "demodf=pd.read_csv(r\"C:\\Users\\sneha\\Downloads\\grades_withnulls(1).csv\")"
   ]
  },
  {
   "cell_type": "code",
   "execution_count": 47,
   "id": "fa598ee8",
   "metadata": {},
   "outputs": [
    {
     "data": {
      "text/html": [
       "<div>\n",
       "<style scoped>\n",
       "    .dataframe tbody tr th:only-of-type {\n",
       "        vertical-align: middle;\n",
       "    }\n",
       "\n",
       "    .dataframe tbody tr th {\n",
       "        vertical-align: top;\n",
       "    }\n",
       "\n",
       "    .dataframe thead th {\n",
       "        text-align: right;\n",
       "    }\n",
       "</style>\n",
       "<table border=\"1\" class=\"dataframe\">\n",
       "  <thead>\n",
       "    <tr style=\"text-align: right;\">\n",
       "      <th></th>\n",
       "      <th>Names</th>\n",
       "      <th>Initials</th>\n",
       "      <th>SEM1</th>\n",
       "      <th>SEM2</th>\n",
       "      <th>SEM3</th>\n",
       "      <th>Grade</th>\n",
       "      <th>Placed</th>\n",
       "    </tr>\n",
       "  </thead>\n",
       "  <tbody>\n",
       "    <tr>\n",
       "      <th>0</th>\n",
       "      <td>Joe</td>\n",
       "      <td>K</td>\n",
       "      <td>9.8</td>\n",
       "      <td>10.0</td>\n",
       "      <td>9.9</td>\n",
       "      <td>A+</td>\n",
       "      <td>1</td>\n",
       "    </tr>\n",
       "    <tr>\n",
       "      <th>1</th>\n",
       "      <td>Rajesh</td>\n",
       "      <td>M</td>\n",
       "      <td>8.9</td>\n",
       "      <td>9.1</td>\n",
       "      <td>9.3</td>\n",
       "      <td>A</td>\n",
       "      <td>1</td>\n",
       "    </tr>\n",
       "    <tr>\n",
       "      <th>2</th>\n",
       "      <td>Kissan</td>\n",
       "      <td>V</td>\n",
       "      <td>9.9</td>\n",
       "      <td>9.8</td>\n",
       "      <td>10.0</td>\n",
       "      <td>A</td>\n",
       "      <td>0</td>\n",
       "    </tr>\n",
       "    <tr>\n",
       "      <th>3</th>\n",
       "      <td>Mary</td>\n",
       "      <td>N</td>\n",
       "      <td>7.7</td>\n",
       "      <td>8.0</td>\n",
       "      <td>NaN</td>\n",
       "      <td>B</td>\n",
       "      <td>0</td>\n",
       "    </tr>\n",
       "    <tr>\n",
       "      <th>4</th>\n",
       "      <td>Jeen</td>\n",
       "      <td>K</td>\n",
       "      <td>9.8</td>\n",
       "      <td>9.1</td>\n",
       "      <td>9.9</td>\n",
       "      <td>A+</td>\n",
       "      <td>1</td>\n",
       "    </tr>\n",
       "    <tr>\n",
       "      <th>5</th>\n",
       "      <td>Raj</td>\n",
       "      <td>M</td>\n",
       "      <td>8.9</td>\n",
       "      <td>9.1</td>\n",
       "      <td>9.3</td>\n",
       "      <td>A</td>\n",
       "      <td>1</td>\n",
       "    </tr>\n",
       "    <tr>\n",
       "      <th>6</th>\n",
       "      <td>Hassan</td>\n",
       "      <td>V</td>\n",
       "      <td>9.9</td>\n",
       "      <td>9.0</td>\n",
       "      <td>9.2</td>\n",
       "      <td>A</td>\n",
       "      <td>1</td>\n",
       "    </tr>\n",
       "    <tr>\n",
       "      <th>7</th>\n",
       "      <td>Mari</td>\n",
       "      <td>N</td>\n",
       "      <td>7.7</td>\n",
       "      <td>8.0</td>\n",
       "      <td>7.1</td>\n",
       "      <td>B</td>\n",
       "      <td>1</td>\n",
       "    </tr>\n",
       "    <tr>\n",
       "      <th>8</th>\n",
       "      <td>Jess</td>\n",
       "      <td>K</td>\n",
       "      <td>NaN</td>\n",
       "      <td>9.1</td>\n",
       "      <td>9.9</td>\n",
       "      <td>A+</td>\n",
       "      <td>1</td>\n",
       "    </tr>\n",
       "    <tr>\n",
       "      <th>9</th>\n",
       "      <td>Rajini</td>\n",
       "      <td>M</td>\n",
       "      <td>NaN</td>\n",
       "      <td>9.1</td>\n",
       "      <td>9.3</td>\n",
       "      <td>A</td>\n",
       "      <td>0</td>\n",
       "    </tr>\n",
       "    <tr>\n",
       "      <th>10</th>\n",
       "      <td>Kiran</td>\n",
       "      <td>V</td>\n",
       "      <td>NaN</td>\n",
       "      <td>9.3</td>\n",
       "      <td>9.2</td>\n",
       "      <td>A</td>\n",
       "      <td>0</td>\n",
       "    </tr>\n",
       "    <tr>\n",
       "      <th>11</th>\n",
       "      <td>Maya</td>\n",
       "      <td>N</td>\n",
       "      <td>7.7</td>\n",
       "      <td>8.0</td>\n",
       "      <td>7.1</td>\n",
       "      <td>B</td>\n",
       "      <td>0</td>\n",
       "    </tr>\n",
       "    <tr>\n",
       "      <th>12</th>\n",
       "      <td>Jolin</td>\n",
       "      <td>K</td>\n",
       "      <td>9.8</td>\n",
       "      <td>9.1</td>\n",
       "      <td>9.9</td>\n",
       "      <td>A+</td>\n",
       "      <td>1</td>\n",
       "    </tr>\n",
       "    <tr>\n",
       "      <th>13</th>\n",
       "      <td>Rajesh</td>\n",
       "      <td>M</td>\n",
       "      <td>8.9</td>\n",
       "      <td>9.1</td>\n",
       "      <td>9.3</td>\n",
       "      <td>A</td>\n",
       "      <td>1</td>\n",
       "    </tr>\n",
       "    <tr>\n",
       "      <th>14</th>\n",
       "      <td>Riya</td>\n",
       "      <td>M</td>\n",
       "      <td>9.3</td>\n",
       "      <td>9.9</td>\n",
       "      <td>10.0</td>\n",
       "      <td>A</td>\n",
       "      <td>1</td>\n",
       "    </tr>\n",
       "    <tr>\n",
       "      <th>15</th>\n",
       "      <td>Sana</td>\n",
       "      <td>V</td>\n",
       "      <td>9.9</td>\n",
       "      <td>9.3</td>\n",
       "      <td>9.2</td>\n",
       "      <td>A</td>\n",
       "      <td>0</td>\n",
       "    </tr>\n",
       "    <tr>\n",
       "      <th>16</th>\n",
       "      <td>Mark</td>\n",
       "      <td>N</td>\n",
       "      <td>7.7</td>\n",
       "      <td>8.0</td>\n",
       "      <td>7.0</td>\n",
       "      <td>B</td>\n",
       "      <td>0</td>\n",
       "    </tr>\n",
       "  </tbody>\n",
       "</table>\n",
       "</div>"
      ],
      "text/plain": [
       "     Names Initials  SEM1  SEM2  SEM3 Grade  Placed\n",
       "0      Joe        K   9.8  10.0   9.9    A+       1\n",
       "1   Rajesh        M   8.9   9.1   9.3     A       1\n",
       "2   Kissan        V   9.9   9.8  10.0     A       0\n",
       "3     Mary        N   7.7   8.0   NaN     B       0\n",
       "4     Jeen        K   9.8   9.1   9.9    A+       1\n",
       "5      Raj        M   8.9   9.1   9.3     A       1\n",
       "6   Hassan        V   9.9   9.0   9.2     A       1\n",
       "7     Mari        N   7.7   8.0   7.1     B       1\n",
       "8     Jess        K   NaN   9.1   9.9    A+       1\n",
       "9   Rajini        M   NaN   9.1   9.3     A       0\n",
       "10   Kiran        V   NaN   9.3   9.2     A       0\n",
       "11    Maya        N   7.7   8.0   7.1     B       0\n",
       "12   Jolin        K   9.8   9.1   9.9    A+       1\n",
       "13  Rajesh        M   8.9   9.1   9.3     A       1\n",
       "14    Riya        M   9.3   9.9  10.0     A       1\n",
       "15    Sana        V   9.9   9.3   9.2     A       0\n",
       "16    Mark        N   7.7   8.0   7.0     B       0"
      ]
     },
     "execution_count": 47,
     "metadata": {},
     "output_type": "execute_result"
    }
   ],
   "source": [
    "demodf"
   ]
  },
  {
   "cell_type": "code",
   "execution_count": 48,
   "id": "e86dd8be",
   "metadata": {},
   "outputs": [
    {
     "data": {
      "text/plain": [
       "Names       0\n",
       "Initials    0\n",
       "SEM1        3\n",
       "SEM2        0\n",
       "SEM3        1\n",
       "Grade       0\n",
       "Placed      0\n",
       "dtype: int64"
      ]
     },
     "execution_count": 48,
     "metadata": {},
     "output_type": "execute_result"
    }
   ],
   "source": [
    "demodf.isnull().sum()"
   ]
  },
  {
   "cell_type": "code",
   "execution_count": 49,
   "id": "a3a44f17",
   "metadata": {},
   "outputs": [],
   "source": [
    "demodf.fillna(7,inplace=True)"
   ]
  },
  {
   "cell_type": "code",
   "execution_count": 50,
   "id": "5ca7c977",
   "metadata": {},
   "outputs": [
    {
     "data": {
      "text/html": [
       "<div>\n",
       "<style scoped>\n",
       "    .dataframe tbody tr th:only-of-type {\n",
       "        vertical-align: middle;\n",
       "    }\n",
       "\n",
       "    .dataframe tbody tr th {\n",
       "        vertical-align: top;\n",
       "    }\n",
       "\n",
       "    .dataframe thead th {\n",
       "        text-align: right;\n",
       "    }\n",
       "</style>\n",
       "<table border=\"1\" class=\"dataframe\">\n",
       "  <thead>\n",
       "    <tr style=\"text-align: right;\">\n",
       "      <th></th>\n",
       "      <th>Names</th>\n",
       "      <th>Initials</th>\n",
       "      <th>SEM1</th>\n",
       "      <th>SEM2</th>\n",
       "      <th>SEM3</th>\n",
       "      <th>Grade</th>\n",
       "      <th>Placed</th>\n",
       "    </tr>\n",
       "  </thead>\n",
       "  <tbody>\n",
       "    <tr>\n",
       "      <th>0</th>\n",
       "      <td>Joe</td>\n",
       "      <td>K</td>\n",
       "      <td>9.8</td>\n",
       "      <td>10.0</td>\n",
       "      <td>9.9</td>\n",
       "      <td>A+</td>\n",
       "      <td>1</td>\n",
       "    </tr>\n",
       "    <tr>\n",
       "      <th>1</th>\n",
       "      <td>Rajesh</td>\n",
       "      <td>M</td>\n",
       "      <td>8.9</td>\n",
       "      <td>9.1</td>\n",
       "      <td>9.3</td>\n",
       "      <td>A</td>\n",
       "      <td>1</td>\n",
       "    </tr>\n",
       "    <tr>\n",
       "      <th>2</th>\n",
       "      <td>Kissan</td>\n",
       "      <td>V</td>\n",
       "      <td>9.9</td>\n",
       "      <td>9.8</td>\n",
       "      <td>10.0</td>\n",
       "      <td>A</td>\n",
       "      <td>0</td>\n",
       "    </tr>\n",
       "    <tr>\n",
       "      <th>3</th>\n",
       "      <td>Mary</td>\n",
       "      <td>N</td>\n",
       "      <td>7.7</td>\n",
       "      <td>8.0</td>\n",
       "      <td>7.0</td>\n",
       "      <td>B</td>\n",
       "      <td>0</td>\n",
       "    </tr>\n",
       "    <tr>\n",
       "      <th>4</th>\n",
       "      <td>Jeen</td>\n",
       "      <td>K</td>\n",
       "      <td>9.8</td>\n",
       "      <td>9.1</td>\n",
       "      <td>9.9</td>\n",
       "      <td>A+</td>\n",
       "      <td>1</td>\n",
       "    </tr>\n",
       "    <tr>\n",
       "      <th>5</th>\n",
       "      <td>Raj</td>\n",
       "      <td>M</td>\n",
       "      <td>8.9</td>\n",
       "      <td>9.1</td>\n",
       "      <td>9.3</td>\n",
       "      <td>A</td>\n",
       "      <td>1</td>\n",
       "    </tr>\n",
       "    <tr>\n",
       "      <th>6</th>\n",
       "      <td>Hassan</td>\n",
       "      <td>V</td>\n",
       "      <td>9.9</td>\n",
       "      <td>9.0</td>\n",
       "      <td>9.2</td>\n",
       "      <td>A</td>\n",
       "      <td>1</td>\n",
       "    </tr>\n",
       "    <tr>\n",
       "      <th>7</th>\n",
       "      <td>Mari</td>\n",
       "      <td>N</td>\n",
       "      <td>7.7</td>\n",
       "      <td>8.0</td>\n",
       "      <td>7.1</td>\n",
       "      <td>B</td>\n",
       "      <td>1</td>\n",
       "    </tr>\n",
       "    <tr>\n",
       "      <th>8</th>\n",
       "      <td>Jess</td>\n",
       "      <td>K</td>\n",
       "      <td>7.0</td>\n",
       "      <td>9.1</td>\n",
       "      <td>9.9</td>\n",
       "      <td>A+</td>\n",
       "      <td>1</td>\n",
       "    </tr>\n",
       "    <tr>\n",
       "      <th>9</th>\n",
       "      <td>Rajini</td>\n",
       "      <td>M</td>\n",
       "      <td>7.0</td>\n",
       "      <td>9.1</td>\n",
       "      <td>9.3</td>\n",
       "      <td>A</td>\n",
       "      <td>0</td>\n",
       "    </tr>\n",
       "    <tr>\n",
       "      <th>10</th>\n",
       "      <td>Kiran</td>\n",
       "      <td>V</td>\n",
       "      <td>7.0</td>\n",
       "      <td>9.3</td>\n",
       "      <td>9.2</td>\n",
       "      <td>A</td>\n",
       "      <td>0</td>\n",
       "    </tr>\n",
       "    <tr>\n",
       "      <th>11</th>\n",
       "      <td>Maya</td>\n",
       "      <td>N</td>\n",
       "      <td>7.7</td>\n",
       "      <td>8.0</td>\n",
       "      <td>7.1</td>\n",
       "      <td>B</td>\n",
       "      <td>0</td>\n",
       "    </tr>\n",
       "    <tr>\n",
       "      <th>12</th>\n",
       "      <td>Jolin</td>\n",
       "      <td>K</td>\n",
       "      <td>9.8</td>\n",
       "      <td>9.1</td>\n",
       "      <td>9.9</td>\n",
       "      <td>A+</td>\n",
       "      <td>1</td>\n",
       "    </tr>\n",
       "    <tr>\n",
       "      <th>13</th>\n",
       "      <td>Rajesh</td>\n",
       "      <td>M</td>\n",
       "      <td>8.9</td>\n",
       "      <td>9.1</td>\n",
       "      <td>9.3</td>\n",
       "      <td>A</td>\n",
       "      <td>1</td>\n",
       "    </tr>\n",
       "    <tr>\n",
       "      <th>14</th>\n",
       "      <td>Riya</td>\n",
       "      <td>M</td>\n",
       "      <td>9.3</td>\n",
       "      <td>9.9</td>\n",
       "      <td>10.0</td>\n",
       "      <td>A</td>\n",
       "      <td>1</td>\n",
       "    </tr>\n",
       "    <tr>\n",
       "      <th>15</th>\n",
       "      <td>Sana</td>\n",
       "      <td>V</td>\n",
       "      <td>9.9</td>\n",
       "      <td>9.3</td>\n",
       "      <td>9.2</td>\n",
       "      <td>A</td>\n",
       "      <td>0</td>\n",
       "    </tr>\n",
       "    <tr>\n",
       "      <th>16</th>\n",
       "      <td>Mark</td>\n",
       "      <td>N</td>\n",
       "      <td>7.7</td>\n",
       "      <td>8.0</td>\n",
       "      <td>7.0</td>\n",
       "      <td>B</td>\n",
       "      <td>0</td>\n",
       "    </tr>\n",
       "  </tbody>\n",
       "</table>\n",
       "</div>"
      ],
      "text/plain": [
       "     Names Initials  SEM1  SEM2  SEM3 Grade  Placed\n",
       "0      Joe        K   9.8  10.0   9.9    A+       1\n",
       "1   Rajesh        M   8.9   9.1   9.3     A       1\n",
       "2   Kissan        V   9.9   9.8  10.0     A       0\n",
       "3     Mary        N   7.7   8.0   7.0     B       0\n",
       "4     Jeen        K   9.8   9.1   9.9    A+       1\n",
       "5      Raj        M   8.9   9.1   9.3     A       1\n",
       "6   Hassan        V   9.9   9.0   9.2     A       1\n",
       "7     Mari        N   7.7   8.0   7.1     B       1\n",
       "8     Jess        K   7.0   9.1   9.9    A+       1\n",
       "9   Rajini        M   7.0   9.1   9.3     A       0\n",
       "10   Kiran        V   7.0   9.3   9.2     A       0\n",
       "11    Maya        N   7.7   8.0   7.1     B       0\n",
       "12   Jolin        K   9.8   9.1   9.9    A+       1\n",
       "13  Rajesh        M   8.9   9.1   9.3     A       1\n",
       "14    Riya        M   9.3   9.9  10.0     A       1\n",
       "15    Sana        V   9.9   9.3   9.2     A       0\n",
       "16    Mark        N   7.7   8.0   7.0     B       0"
      ]
     },
     "execution_count": 50,
     "metadata": {},
     "output_type": "execute_result"
    }
   ],
   "source": [
    "demodf"
   ]
  },
  {
   "cell_type": "code",
   "execution_count": 51,
   "id": "ab6efaaa",
   "metadata": {},
   "outputs": [],
   "source": [
    "demodf.drop_duplicates(inplace=True)"
   ]
  },
  {
   "cell_type": "code",
   "execution_count": 52,
   "id": "53ff8066",
   "metadata": {},
   "outputs": [
    {
     "data": {
      "text/html": [
       "<div>\n",
       "<style scoped>\n",
       "    .dataframe tbody tr th:only-of-type {\n",
       "        vertical-align: middle;\n",
       "    }\n",
       "\n",
       "    .dataframe tbody tr th {\n",
       "        vertical-align: top;\n",
       "    }\n",
       "\n",
       "    .dataframe thead th {\n",
       "        text-align: right;\n",
       "    }\n",
       "</style>\n",
       "<table border=\"1\" class=\"dataframe\">\n",
       "  <thead>\n",
       "    <tr style=\"text-align: right;\">\n",
       "      <th></th>\n",
       "      <th>Names</th>\n",
       "      <th>Initials</th>\n",
       "      <th>SEM1</th>\n",
       "      <th>SEM2</th>\n",
       "      <th>SEM3</th>\n",
       "      <th>Grade</th>\n",
       "      <th>Placed</th>\n",
       "    </tr>\n",
       "  </thead>\n",
       "  <tbody>\n",
       "    <tr>\n",
       "      <th>0</th>\n",
       "      <td>Joe</td>\n",
       "      <td>K</td>\n",
       "      <td>9.8</td>\n",
       "      <td>10.0</td>\n",
       "      <td>9.9</td>\n",
       "      <td>A+</td>\n",
       "      <td>1</td>\n",
       "    </tr>\n",
       "    <tr>\n",
       "      <th>1</th>\n",
       "      <td>Rajesh</td>\n",
       "      <td>M</td>\n",
       "      <td>8.9</td>\n",
       "      <td>9.1</td>\n",
       "      <td>9.3</td>\n",
       "      <td>A</td>\n",
       "      <td>1</td>\n",
       "    </tr>\n",
       "    <tr>\n",
       "      <th>2</th>\n",
       "      <td>Kissan</td>\n",
       "      <td>V</td>\n",
       "      <td>9.9</td>\n",
       "      <td>9.8</td>\n",
       "      <td>10.0</td>\n",
       "      <td>A</td>\n",
       "      <td>0</td>\n",
       "    </tr>\n",
       "    <tr>\n",
       "      <th>3</th>\n",
       "      <td>Mary</td>\n",
       "      <td>N</td>\n",
       "      <td>7.7</td>\n",
       "      <td>8.0</td>\n",
       "      <td>7.0</td>\n",
       "      <td>B</td>\n",
       "      <td>0</td>\n",
       "    </tr>\n",
       "    <tr>\n",
       "      <th>4</th>\n",
       "      <td>Jeen</td>\n",
       "      <td>K</td>\n",
       "      <td>9.8</td>\n",
       "      <td>9.1</td>\n",
       "      <td>9.9</td>\n",
       "      <td>A+</td>\n",
       "      <td>1</td>\n",
       "    </tr>\n",
       "    <tr>\n",
       "      <th>5</th>\n",
       "      <td>Raj</td>\n",
       "      <td>M</td>\n",
       "      <td>8.9</td>\n",
       "      <td>9.1</td>\n",
       "      <td>9.3</td>\n",
       "      <td>A</td>\n",
       "      <td>1</td>\n",
       "    </tr>\n",
       "    <tr>\n",
       "      <th>6</th>\n",
       "      <td>Hassan</td>\n",
       "      <td>V</td>\n",
       "      <td>9.9</td>\n",
       "      <td>9.0</td>\n",
       "      <td>9.2</td>\n",
       "      <td>A</td>\n",
       "      <td>1</td>\n",
       "    </tr>\n",
       "    <tr>\n",
       "      <th>7</th>\n",
       "      <td>Mari</td>\n",
       "      <td>N</td>\n",
       "      <td>7.7</td>\n",
       "      <td>8.0</td>\n",
       "      <td>7.1</td>\n",
       "      <td>B</td>\n",
       "      <td>1</td>\n",
       "    </tr>\n",
       "    <tr>\n",
       "      <th>8</th>\n",
       "      <td>Jess</td>\n",
       "      <td>K</td>\n",
       "      <td>7.0</td>\n",
       "      <td>9.1</td>\n",
       "      <td>9.9</td>\n",
       "      <td>A+</td>\n",
       "      <td>1</td>\n",
       "    </tr>\n",
       "    <tr>\n",
       "      <th>9</th>\n",
       "      <td>Rajini</td>\n",
       "      <td>M</td>\n",
       "      <td>7.0</td>\n",
       "      <td>9.1</td>\n",
       "      <td>9.3</td>\n",
       "      <td>A</td>\n",
       "      <td>0</td>\n",
       "    </tr>\n",
       "    <tr>\n",
       "      <th>10</th>\n",
       "      <td>Kiran</td>\n",
       "      <td>V</td>\n",
       "      <td>7.0</td>\n",
       "      <td>9.3</td>\n",
       "      <td>9.2</td>\n",
       "      <td>A</td>\n",
       "      <td>0</td>\n",
       "    </tr>\n",
       "    <tr>\n",
       "      <th>11</th>\n",
       "      <td>Maya</td>\n",
       "      <td>N</td>\n",
       "      <td>7.7</td>\n",
       "      <td>8.0</td>\n",
       "      <td>7.1</td>\n",
       "      <td>B</td>\n",
       "      <td>0</td>\n",
       "    </tr>\n",
       "    <tr>\n",
       "      <th>12</th>\n",
       "      <td>Jolin</td>\n",
       "      <td>K</td>\n",
       "      <td>9.8</td>\n",
       "      <td>9.1</td>\n",
       "      <td>9.9</td>\n",
       "      <td>A+</td>\n",
       "      <td>1</td>\n",
       "    </tr>\n",
       "    <tr>\n",
       "      <th>14</th>\n",
       "      <td>Riya</td>\n",
       "      <td>M</td>\n",
       "      <td>9.3</td>\n",
       "      <td>9.9</td>\n",
       "      <td>10.0</td>\n",
       "      <td>A</td>\n",
       "      <td>1</td>\n",
       "    </tr>\n",
       "    <tr>\n",
       "      <th>15</th>\n",
       "      <td>Sana</td>\n",
       "      <td>V</td>\n",
       "      <td>9.9</td>\n",
       "      <td>9.3</td>\n",
       "      <td>9.2</td>\n",
       "      <td>A</td>\n",
       "      <td>0</td>\n",
       "    </tr>\n",
       "    <tr>\n",
       "      <th>16</th>\n",
       "      <td>Mark</td>\n",
       "      <td>N</td>\n",
       "      <td>7.7</td>\n",
       "      <td>8.0</td>\n",
       "      <td>7.0</td>\n",
       "      <td>B</td>\n",
       "      <td>0</td>\n",
       "    </tr>\n",
       "  </tbody>\n",
       "</table>\n",
       "</div>"
      ],
      "text/plain": [
       "     Names Initials  SEM1  SEM2  SEM3 Grade  Placed\n",
       "0      Joe        K   9.8  10.0   9.9    A+       1\n",
       "1   Rajesh        M   8.9   9.1   9.3     A       1\n",
       "2   Kissan        V   9.9   9.8  10.0     A       0\n",
       "3     Mary        N   7.7   8.0   7.0     B       0\n",
       "4     Jeen        K   9.8   9.1   9.9    A+       1\n",
       "5      Raj        M   8.9   9.1   9.3     A       1\n",
       "6   Hassan        V   9.9   9.0   9.2     A       1\n",
       "7     Mari        N   7.7   8.0   7.1     B       1\n",
       "8     Jess        K   7.0   9.1   9.9    A+       1\n",
       "9   Rajini        M   7.0   9.1   9.3     A       0\n",
       "10   Kiran        V   7.0   9.3   9.2     A       0\n",
       "11    Maya        N   7.7   8.0   7.1     B       0\n",
       "12   Jolin        K   9.8   9.1   9.9    A+       1\n",
       "14    Riya        M   9.3   9.9  10.0     A       1\n",
       "15    Sana        V   9.9   9.3   9.2     A       0\n",
       "16    Mark        N   7.7   8.0   7.0     B       0"
      ]
     },
     "execution_count": 52,
     "metadata": {},
     "output_type": "execute_result"
    }
   ],
   "source": [
    "demodf"
   ]
  },
  {
   "cell_type": "code",
   "execution_count": 53,
   "id": "c75f7f1d",
   "metadata": {},
   "outputs": [],
   "source": [
    "demodf['Average']=(demodf['SEM1']+demodf['SEM2']+demodf['SEM3'])/3"
   ]
  },
  {
   "cell_type": "code",
   "execution_count": 54,
   "id": "a383dd9e",
   "metadata": {},
   "outputs": [
    {
     "data": {
      "text/html": [
       "<div>\n",
       "<style scoped>\n",
       "    .dataframe tbody tr th:only-of-type {\n",
       "        vertical-align: middle;\n",
       "    }\n",
       "\n",
       "    .dataframe tbody tr th {\n",
       "        vertical-align: top;\n",
       "    }\n",
       "\n",
       "    .dataframe thead th {\n",
       "        text-align: right;\n",
       "    }\n",
       "</style>\n",
       "<table border=\"1\" class=\"dataframe\">\n",
       "  <thead>\n",
       "    <tr style=\"text-align: right;\">\n",
       "      <th></th>\n",
       "      <th>Names</th>\n",
       "      <th>Initials</th>\n",
       "      <th>SEM1</th>\n",
       "      <th>SEM2</th>\n",
       "      <th>SEM3</th>\n",
       "      <th>Grade</th>\n",
       "      <th>Placed</th>\n",
       "      <th>Average</th>\n",
       "    </tr>\n",
       "  </thead>\n",
       "  <tbody>\n",
       "    <tr>\n",
       "      <th>0</th>\n",
       "      <td>Joe</td>\n",
       "      <td>K</td>\n",
       "      <td>9.8</td>\n",
       "      <td>10.0</td>\n",
       "      <td>9.9</td>\n",
       "      <td>A+</td>\n",
       "      <td>1</td>\n",
       "      <td>9.900000</td>\n",
       "    </tr>\n",
       "    <tr>\n",
       "      <th>1</th>\n",
       "      <td>Rajesh</td>\n",
       "      <td>M</td>\n",
       "      <td>8.9</td>\n",
       "      <td>9.1</td>\n",
       "      <td>9.3</td>\n",
       "      <td>A</td>\n",
       "      <td>1</td>\n",
       "      <td>9.100000</td>\n",
       "    </tr>\n",
       "    <tr>\n",
       "      <th>2</th>\n",
       "      <td>Kissan</td>\n",
       "      <td>V</td>\n",
       "      <td>9.9</td>\n",
       "      <td>9.8</td>\n",
       "      <td>10.0</td>\n",
       "      <td>A</td>\n",
       "      <td>0</td>\n",
       "      <td>9.900000</td>\n",
       "    </tr>\n",
       "    <tr>\n",
       "      <th>3</th>\n",
       "      <td>Mary</td>\n",
       "      <td>N</td>\n",
       "      <td>7.7</td>\n",
       "      <td>8.0</td>\n",
       "      <td>7.0</td>\n",
       "      <td>B</td>\n",
       "      <td>0</td>\n",
       "      <td>7.566667</td>\n",
       "    </tr>\n",
       "    <tr>\n",
       "      <th>4</th>\n",
       "      <td>Jeen</td>\n",
       "      <td>K</td>\n",
       "      <td>9.8</td>\n",
       "      <td>9.1</td>\n",
       "      <td>9.9</td>\n",
       "      <td>A+</td>\n",
       "      <td>1</td>\n",
       "      <td>9.600000</td>\n",
       "    </tr>\n",
       "    <tr>\n",
       "      <th>5</th>\n",
       "      <td>Raj</td>\n",
       "      <td>M</td>\n",
       "      <td>8.9</td>\n",
       "      <td>9.1</td>\n",
       "      <td>9.3</td>\n",
       "      <td>A</td>\n",
       "      <td>1</td>\n",
       "      <td>9.100000</td>\n",
       "    </tr>\n",
       "    <tr>\n",
       "      <th>6</th>\n",
       "      <td>Hassan</td>\n",
       "      <td>V</td>\n",
       "      <td>9.9</td>\n",
       "      <td>9.0</td>\n",
       "      <td>9.2</td>\n",
       "      <td>A</td>\n",
       "      <td>1</td>\n",
       "      <td>9.366667</td>\n",
       "    </tr>\n",
       "    <tr>\n",
       "      <th>7</th>\n",
       "      <td>Mari</td>\n",
       "      <td>N</td>\n",
       "      <td>7.7</td>\n",
       "      <td>8.0</td>\n",
       "      <td>7.1</td>\n",
       "      <td>B</td>\n",
       "      <td>1</td>\n",
       "      <td>7.600000</td>\n",
       "    </tr>\n",
       "    <tr>\n",
       "      <th>8</th>\n",
       "      <td>Jess</td>\n",
       "      <td>K</td>\n",
       "      <td>7.0</td>\n",
       "      <td>9.1</td>\n",
       "      <td>9.9</td>\n",
       "      <td>A+</td>\n",
       "      <td>1</td>\n",
       "      <td>8.666667</td>\n",
       "    </tr>\n",
       "    <tr>\n",
       "      <th>9</th>\n",
       "      <td>Rajini</td>\n",
       "      <td>M</td>\n",
       "      <td>7.0</td>\n",
       "      <td>9.1</td>\n",
       "      <td>9.3</td>\n",
       "      <td>A</td>\n",
       "      <td>0</td>\n",
       "      <td>8.466667</td>\n",
       "    </tr>\n",
       "    <tr>\n",
       "      <th>10</th>\n",
       "      <td>Kiran</td>\n",
       "      <td>V</td>\n",
       "      <td>7.0</td>\n",
       "      <td>9.3</td>\n",
       "      <td>9.2</td>\n",
       "      <td>A</td>\n",
       "      <td>0</td>\n",
       "      <td>8.500000</td>\n",
       "    </tr>\n",
       "    <tr>\n",
       "      <th>11</th>\n",
       "      <td>Maya</td>\n",
       "      <td>N</td>\n",
       "      <td>7.7</td>\n",
       "      <td>8.0</td>\n",
       "      <td>7.1</td>\n",
       "      <td>B</td>\n",
       "      <td>0</td>\n",
       "      <td>7.600000</td>\n",
       "    </tr>\n",
       "    <tr>\n",
       "      <th>12</th>\n",
       "      <td>Jolin</td>\n",
       "      <td>K</td>\n",
       "      <td>9.8</td>\n",
       "      <td>9.1</td>\n",
       "      <td>9.9</td>\n",
       "      <td>A+</td>\n",
       "      <td>1</td>\n",
       "      <td>9.600000</td>\n",
       "    </tr>\n",
       "    <tr>\n",
       "      <th>14</th>\n",
       "      <td>Riya</td>\n",
       "      <td>M</td>\n",
       "      <td>9.3</td>\n",
       "      <td>9.9</td>\n",
       "      <td>10.0</td>\n",
       "      <td>A</td>\n",
       "      <td>1</td>\n",
       "      <td>9.733333</td>\n",
       "    </tr>\n",
       "    <tr>\n",
       "      <th>15</th>\n",
       "      <td>Sana</td>\n",
       "      <td>V</td>\n",
       "      <td>9.9</td>\n",
       "      <td>9.3</td>\n",
       "      <td>9.2</td>\n",
       "      <td>A</td>\n",
       "      <td>0</td>\n",
       "      <td>9.466667</td>\n",
       "    </tr>\n",
       "    <tr>\n",
       "      <th>16</th>\n",
       "      <td>Mark</td>\n",
       "      <td>N</td>\n",
       "      <td>7.7</td>\n",
       "      <td>8.0</td>\n",
       "      <td>7.0</td>\n",
       "      <td>B</td>\n",
       "      <td>0</td>\n",
       "      <td>7.566667</td>\n",
       "    </tr>\n",
       "  </tbody>\n",
       "</table>\n",
       "</div>"
      ],
      "text/plain": [
       "     Names Initials  SEM1  SEM2  SEM3 Grade  Placed   Average\n",
       "0      Joe        K   9.8  10.0   9.9    A+       1  9.900000\n",
       "1   Rajesh        M   8.9   9.1   9.3     A       1  9.100000\n",
       "2   Kissan        V   9.9   9.8  10.0     A       0  9.900000\n",
       "3     Mary        N   7.7   8.0   7.0     B       0  7.566667\n",
       "4     Jeen        K   9.8   9.1   9.9    A+       1  9.600000\n",
       "5      Raj        M   8.9   9.1   9.3     A       1  9.100000\n",
       "6   Hassan        V   9.9   9.0   9.2     A       1  9.366667\n",
       "7     Mari        N   7.7   8.0   7.1     B       1  7.600000\n",
       "8     Jess        K   7.0   9.1   9.9    A+       1  8.666667\n",
       "9   Rajini        M   7.0   9.1   9.3     A       0  8.466667\n",
       "10   Kiran        V   7.0   9.3   9.2     A       0  8.500000\n",
       "11    Maya        N   7.7   8.0   7.1     B       0  7.600000\n",
       "12   Jolin        K   9.8   9.1   9.9    A+       1  9.600000\n",
       "14    Riya        M   9.3   9.9  10.0     A       1  9.733333\n",
       "15    Sana        V   9.9   9.3   9.2     A       0  9.466667\n",
       "16    Mark        N   7.7   8.0   7.0     B       0  7.566667"
      ]
     },
     "execution_count": 54,
     "metadata": {},
     "output_type": "execute_result"
    }
   ],
   "source": [
    "demodf"
   ]
  },
  {
   "cell_type": "code",
   "execution_count": 56,
   "id": "746c371c",
   "metadata": {},
   "outputs": [
    {
     "data": {
      "text/html": [
       "<div>\n",
       "<style scoped>\n",
       "    .dataframe tbody tr th:only-of-type {\n",
       "        vertical-align: middle;\n",
       "    }\n",
       "\n",
       "    .dataframe tbody tr th {\n",
       "        vertical-align: top;\n",
       "    }\n",
       "\n",
       "    .dataframe thead th {\n",
       "        text-align: right;\n",
       "    }\n",
       "</style>\n",
       "<table border=\"1\" class=\"dataframe\">\n",
       "  <thead>\n",
       "    <tr style=\"text-align: right;\">\n",
       "      <th></th>\n",
       "      <th>Names</th>\n",
       "      <th>Grade</th>\n",
       "    </tr>\n",
       "  </thead>\n",
       "  <tbody>\n",
       "    <tr>\n",
       "      <th>0</th>\n",
       "      <td>Joe</td>\n",
       "      <td>A+</td>\n",
       "    </tr>\n",
       "    <tr>\n",
       "      <th>1</th>\n",
       "      <td>Rajesh</td>\n",
       "      <td>A</td>\n",
       "    </tr>\n",
       "    <tr>\n",
       "      <th>2</th>\n",
       "      <td>Kissan</td>\n",
       "      <td>A</td>\n",
       "    </tr>\n",
       "    <tr>\n",
       "      <th>3</th>\n",
       "      <td>Mary</td>\n",
       "      <td>B</td>\n",
       "    </tr>\n",
       "    <tr>\n",
       "      <th>4</th>\n",
       "      <td>Jeen</td>\n",
       "      <td>A+</td>\n",
       "    </tr>\n",
       "  </tbody>\n",
       "</table>\n",
       "</div>"
      ],
      "text/plain": [
       "    Names Grade\n",
       "0     Joe    A+\n",
       "1  Rajesh     A\n",
       "2  Kissan     A\n",
       "3    Mary     B\n",
       "4    Jeen    A+"
      ]
     },
     "execution_count": 56,
     "metadata": {},
     "output_type": "execute_result"
    }
   ],
   "source": [
    "#access\n",
    "demodf.loc[0:4,['Names','Grade']]"
   ]
  },
  {
   "cell_type": "code",
   "execution_count": 57,
   "id": "9aec3421",
   "metadata": {},
   "outputs": [
    {
     "data": {
      "text/html": [
       "<div>\n",
       "<style scoped>\n",
       "    .dataframe tbody tr th:only-of-type {\n",
       "        vertical-align: middle;\n",
       "    }\n",
       "\n",
       "    .dataframe tbody tr th {\n",
       "        vertical-align: top;\n",
       "    }\n",
       "\n",
       "    .dataframe thead th {\n",
       "        text-align: right;\n",
       "    }\n",
       "</style>\n",
       "<table border=\"1\" class=\"dataframe\">\n",
       "  <thead>\n",
       "    <tr style=\"text-align: right;\">\n",
       "      <th></th>\n",
       "      <th>Names</th>\n",
       "      <th>Initials</th>\n",
       "      <th>SEM1</th>\n",
       "    </tr>\n",
       "  </thead>\n",
       "  <tbody>\n",
       "    <tr>\n",
       "      <th>0</th>\n",
       "      <td>Joe</td>\n",
       "      <td>K</td>\n",
       "      <td>9.8</td>\n",
       "    </tr>\n",
       "    <tr>\n",
       "      <th>1</th>\n",
       "      <td>Rajesh</td>\n",
       "      <td>M</td>\n",
       "      <td>8.9</td>\n",
       "    </tr>\n",
       "    <tr>\n",
       "      <th>2</th>\n",
       "      <td>Kissan</td>\n",
       "      <td>V</td>\n",
       "      <td>9.9</td>\n",
       "    </tr>\n",
       "    <tr>\n",
       "      <th>3</th>\n",
       "      <td>Mary</td>\n",
       "      <td>N</td>\n",
       "      <td>7.7</td>\n",
       "    </tr>\n",
       "  </tbody>\n",
       "</table>\n",
       "</div>"
      ],
      "text/plain": [
       "    Names Initials  SEM1\n",
       "0     Joe        K   9.8\n",
       "1  Rajesh        M   8.9\n",
       "2  Kissan        V   9.9\n",
       "3    Mary        N   7.7"
      ]
     },
     "execution_count": 57,
     "metadata": {},
     "output_type": "execute_result"
    }
   ],
   "source": [
    "demodf.iloc[0:4,0:3]"
   ]
  },
  {
   "cell_type": "code",
   "execution_count": null,
   "id": "ce2d78b6",
   "metadata": {},
   "outputs": [],
   "source": []
  }
 ],
 "metadata": {
  "kernelspec": {
   "display_name": "Python 3 (ipykernel)",
   "language": "python",
   "name": "python3"
  },
  "language_info": {
   "codemirror_mode": {
    "name": "ipython",
    "version": 3
   },
   "file_extension": ".py",
   "mimetype": "text/x-python",
   "name": "python",
   "nbconvert_exporter": "python",
   "pygments_lexer": "ipython3",
   "version": "3.9.12"
  }
 },
 "nbformat": 4,
 "nbformat_minor": 5
}
